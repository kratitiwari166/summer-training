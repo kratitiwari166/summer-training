{
 "cells": [
  {
   "cell_type": "code",
   "execution_count": 1,
   "id": "1d684cd6",
   "metadata": {
    "_cell_guid": "b1076dfc-b9ad-4769-8c92-a6c4dae69d19",
    "_uuid": "8f2839f25d086af736a60e9eeb907d3b93b6e0e5",
    "execution": {
     "iopub.execute_input": "2022-06-26T12:23:58.279840Z",
     "iopub.status.busy": "2022-06-26T12:23:58.279307Z",
     "iopub.status.idle": "2022-06-26T12:23:58.299086Z",
     "shell.execute_reply": "2022-06-26T12:23:58.297537Z"
    },
    "papermill": {
     "duration": 0.030397,
     "end_time": "2022-06-26T12:23:58.301911",
     "exception": false,
     "start_time": "2022-06-26T12:23:58.271514",
     "status": "completed"
    },
    "tags": []
   },
   "outputs": [
    {
     "name": "stdout",
     "output_type": "stream",
     "text": [
      "/kaggle/input/heights-and-weights/data.csv\n"
     ]
    }
   ],
   "source": [
    "# This Python 3 environment comes with many helpful analytics libraries installed\n",
    "# It is defined by the kaggle/python Docker image: https://github.com/kaggle/docker-python\n",
    "# For example, here's several helpful packages to load\n",
    "\n",
    "import numpy as np # linear algebra\n",
    "import pandas as pd # data processing, CSV file I/O (e.g. pd.read_csv)\n",
    "\n",
    "# Input data files are available in the read-only \"../input/\" directory\n",
    "# For example, running this (by clicking run or pressing Shift+Enter) will list all files under the input directory\n",
    "\n",
    "import os\n",
    "for dirname, _, filenames in os.walk('/kaggle/input'):\n",
    "    for filename in filenames:\n",
    "        print(os.path.join(dirname, filename))\n",
    "\n",
    "# You can write up to 20GB to the current directory (/kaggle/working/) that gets preserved as output when you create a version using \"Save & Run All\" \n",
    "# You can also write temporary files to /kaggle/temp/, but they won't be saved outside of the current session"
   ]
  },
  {
   "cell_type": "code",
   "execution_count": 2,
   "id": "1fae59e7",
   "metadata": {
    "execution": {
     "iopub.execute_input": "2022-06-26T12:23:58.311574Z",
     "iopub.status.busy": "2022-06-26T12:23:58.311202Z",
     "iopub.status.idle": "2022-06-26T12:23:58.316657Z",
     "shell.execute_reply": "2022-06-26T12:23:58.315511Z"
    },
    "papermill": {
     "duration": 0.013214,
     "end_time": "2022-06-26T12:23:58.319123",
     "exception": false,
     "start_time": "2022-06-26T12:23:58.305909",
     "status": "completed"
    },
    "tags": []
   },
   "outputs": [],
   "source": [
    "import numpy as np\n",
    "import matplotlib.pyplot as plt\n",
    "import pandas as pd"
   ]
  },
  {
   "cell_type": "code",
   "execution_count": 3,
   "id": "bfb62825",
   "metadata": {
    "execution": {
     "iopub.execute_input": "2022-06-26T12:23:58.329167Z",
     "iopub.status.busy": "2022-06-26T12:23:58.328645Z",
     "iopub.status.idle": "2022-06-26T12:23:58.350849Z",
     "shell.execute_reply": "2022-06-26T12:23:58.349587Z"
    },
    "papermill": {
     "duration": 0.030618,
     "end_time": "2022-06-26T12:23:58.353560",
     "exception": false,
     "start_time": "2022-06-26T12:23:58.322942",
     "status": "completed"
    },
    "tags": []
   },
   "outputs": [],
   "source": [
    "dataset = pd.read_csv(\"../input/heights-and-weights/data.csv\")\n",
    "X=dataset[['Height']]\n",
    "y=dataset[['Weight']]"
   ]
  },
  {
   "cell_type": "markdown",
   "id": "b931362f",
   "metadata": {
    "papermill": {
     "duration": 0.003523,
     "end_time": "2022-06-26T12:23:58.361032",
     "exception": false,
     "start_time": "2022-06-26T12:23:58.357509",
     "status": "completed"
    },
    "tags": []
   },
   "source": []
  },
  {
   "cell_type": "code",
   "execution_count": 4,
   "id": "c931ee5f",
   "metadata": {
    "execution": {
     "iopub.execute_input": "2022-06-26T12:23:58.370210Z",
     "iopub.status.busy": "2022-06-26T12:23:58.369742Z",
     "iopub.status.idle": "2022-06-26T12:23:58.390207Z",
     "shell.execute_reply": "2022-06-26T12:23:58.388702Z"
    },
    "papermill": {
     "duration": 0.029553,
     "end_time": "2022-06-26T12:23:58.394189",
     "exception": false,
     "start_time": "2022-06-26T12:23:58.364636",
     "status": "completed"
    },
    "tags": []
   },
   "outputs": [
    {
     "name": "stdout",
     "output_type": "stream",
     "text": [
      "<class 'pandas.core.frame.DataFrame'>\n",
      "RangeIndex: 15 entries, 0 to 14\n",
      "Data columns (total 2 columns):\n",
      " #   Column  Non-Null Count  Dtype  \n",
      "---  ------  --------------  -----  \n",
      " 0   Height  15 non-null     float64\n",
      " 1   Weight  15 non-null     float64\n",
      "dtypes: float64(2)\n",
      "memory usage: 368.0 bytes\n"
     ]
    }
   ],
   "source": [
    "dataset.info()"
   ]
  },
  {
   "cell_type": "code",
   "execution_count": 5,
   "id": "f763b3d5",
   "metadata": {
    "execution": {
     "iopub.execute_input": "2022-06-26T12:23:58.403964Z",
     "iopub.status.busy": "2022-06-26T12:23:58.403572Z",
     "iopub.status.idle": "2022-06-26T12:23:59.499673Z",
     "shell.execute_reply": "2022-06-26T12:23:59.498670Z"
    },
    "papermill": {
     "duration": 1.104141,
     "end_time": "2022-06-26T12:23:59.502473",
     "exception": false,
     "start_time": "2022-06-26T12:23:58.398332",
     "status": "completed"
    },
    "tags": []
   },
   "outputs": [],
   "source": [
    "from sklearn.model_selection import train_test_split\n",
    "X_train, X_test, y_train, y_test = train_test_split(X, y, test_size = 1/3, random_state = 0)"
   ]
  },
  {
   "cell_type": "code",
   "execution_count": 6,
   "id": "e92f3d62",
   "metadata": {
    "execution": {
     "iopub.execute_input": "2022-06-26T12:23:59.511872Z",
     "iopub.status.busy": "2022-06-26T12:23:59.511480Z",
     "iopub.status.idle": "2022-06-26T12:23:59.612038Z",
     "shell.execute_reply": "2022-06-26T12:23:59.610913Z"
    },
    "papermill": {
     "duration": 0.108019,
     "end_time": "2022-06-26T12:23:59.614374",
     "exception": false,
     "start_time": "2022-06-26T12:23:59.506355",
     "status": "completed"
    },
    "tags": []
   },
   "outputs": [
    {
     "data": {
      "text/plain": [
       "LinearRegression()"
      ]
     },
     "execution_count": 6,
     "metadata": {},
     "output_type": "execute_result"
    }
   ],
   "source": [
    "from sklearn.linear_model import LinearRegression\n",
    "regressor = LinearRegression(fit_intercept=True)\n",
    "regressor.fit(X_train,y_train)"
   ]
  },
  {
   "cell_type": "code",
   "execution_count": 7,
   "id": "56a0bb37",
   "metadata": {
    "execution": {
     "iopub.execute_input": "2022-06-26T12:23:59.624419Z",
     "iopub.status.busy": "2022-06-26T12:23:59.623418Z",
     "iopub.status.idle": "2022-06-26T12:23:59.631481Z",
     "shell.execute_reply": "2022-06-26T12:23:59.630317Z"
    },
    "papermill": {
     "duration": 0.015682,
     "end_time": "2022-06-26T12:23:59.633981",
     "exception": false,
     "start_time": "2022-06-26T12:23:59.618299",
     "status": "completed"
    },
    "tags": []
   },
   "outputs": [],
   "source": [
    "y_pred = regressor.predict(X_test)"
   ]
  },
  {
   "cell_type": "code",
   "execution_count": 8,
   "id": "208e0aa5",
   "metadata": {
    "execution": {
     "iopub.execute_input": "2022-06-26T12:23:59.644224Z",
     "iopub.status.busy": "2022-06-26T12:23:59.643140Z",
     "iopub.status.idle": "2022-06-26T12:23:59.851681Z",
     "shell.execute_reply": "2022-06-26T12:23:59.850481Z"
    },
    "papermill": {
     "duration": 0.216144,
     "end_time": "2022-06-26T12:23:59.854166",
     "exception": false,
     "start_time": "2022-06-26T12:23:59.638022",
     "status": "completed"
    },
    "tags": []
   },
   "outputs": [
    {
     "data": {
      "image/png": "[encoded data removed]",
      "text/plain": [
       "<Figure size 432x288 with 1 Axes>"
      ]
     },
     "metadata": {
      "needs_background": "light"
     },
     "output_type": "display_data"
    }
   ],
   "source": [
    "plt.scatter(X_train, y_train, color = 'red')\n",
    "plt.plot(X_train, regressor.predict(X_train), color = 'blue')\n",
    "plt.show()\n"
   ]
  },
  {
   "cell_type": "code",
   "execution_count": 9,
   "id": "ed663c97",
   "metadata": {
    "execution": {
     "iopub.execute_input": "2022-06-26T12:23:59.864477Z",
     "iopub.status.busy": "2022-06-26T12:23:59.864057Z",
     "iopub.status.idle": "2022-06-26T12:24:00.060598Z",
     "shell.execute_reply": "2022-06-26T12:24:00.059455Z"
    },
    "papermill": {
     "duration": 0.204669,
     "end_time": "2022-06-26T12:24:00.063240",
     "exception": false,
     "start_time": "2022-06-26T12:23:59.858571",
     "status": "completed"
    },
    "tags": []
   },
   "outputs": [
    {
     "data": {
      "image/png": "[encoded data removed]",
      "text/plain": [
       "<Figure size 432x288 with 1 Axes>"
      ]
     },
     "metadata": {
      "needs_background": "light"
     },
     "output_type": "display_data"
    }
   ],
   "source": [
    "plt.scatter(X_test,y_test,color='grey')\n",
    "plt.plot(X_test,regressor.predict(X_test),color='red')\n",
    "plt.show()\n"
   ]
  }
 ],
 "metadata": {
  "kernelspec": {
   "display_name": "Python 3",
   "language": "python",
   "name": "python3"
  },
  "language_info": {
   "codemirror_mode": {
    "name": "ipython",
    "version": 3
   },
   "file_extension": ".py",
   "mimetype": "text/x-python",
   "name": "python",
   "nbconvert_exporter": "python",
   "pygments_lexer": "ipython3",
   "version": "3.7.12"
  },
  "papermill": {
   "default_parameters": {},
   "duration": 12.516292,
   "end_time": "2022-06-26T12:24:00.789712",
   "environment_variables": {},
   "exception": null,
   "input_path": "__notebook__.ipynb",
   "output_path": "__notebook__.ipynb",
   "parameters": {},
   "start_time": "2022-06-26T12:23:48.273420",
   "version": "2.3.4"
  }
 },
 "nbformat": 4,
 "nbformat_minor": 5
}
