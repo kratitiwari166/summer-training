{
 "cells": [
  {
   "cell_type": "code",
   "execution_count": 1,
   "id": "3ee90a0d",
   "metadata": {
    "_cell_guid": "b1076dfc-b9ad-4769-8c92-a6c4dae69d19",
    "_uuid": "8f2839f25d086af736a60e9eeb907d3b93b6e0e5",
    "execution": {
     "iopub.execute_input": "2022-07-07T05:21:34.064915Z",
     "iopub.status.busy": "2022-07-07T05:21:34.063258Z",
     "iopub.status.idle": "2022-07-07T05:21:34.083801Z",
     "shell.execute_reply": "2022-07-07T05:21:34.082406Z"
    },
    "papermill": {
     "duration": 0.034637,
     "end_time": "2022-07-07T05:21:34.087182",
     "exception": false,
     "start_time": "2022-07-07T05:21:34.052545",
     "status": "completed"
    },
    "tags": []
   },
   "outputs": [
    {
     "name": "stdout",
     "output_type": "stream",
     "text": [
      "/kaggle/input/the-boston-houseprice-data/boston.csv\n"
     ]
    }
   ],
   "source": [
    "# This Python 3 environment comes with many helpful analytics libraries installed\n",
    "# It is defined by the kaggle/python Docker image: https://github.com/kaggle/docker-python\n",
    "# For example, here's several helpful packages to load\n",
    "\n",
    "import numpy as np # linear algebra\n",
    "import pandas as pd # data processing, CSV file I/O (e.g. pd.read_csv)\n",
    "\n",
    "# Input data files are available in the read-only \"../input/\" directory\n",
    "# For example, running this (by clicking run or pressing Shift+Enter) will list all files under the input directory\n",
    "\n",
    "import os\n",
    "for dirname, _, filenames in os.walk('/kaggle/input'):\n",
    "    for filename in filenames:\n",
    "        print(os.path.join(dirname, filename))\n",
    "\n",
    "# You can write up to 20GB to the current directory (/kaggle/working/) that gets preserved as output when you create a version using \"Save & Run All\" \n",
    "# You can also write temporary files to /kaggle/temp/, but they won't be saved outside of the current session"
   ]
  },
  {
   "cell_type": "code",
   "execution_count": 2,
   "id": "fb68f31c",
   "metadata": {
    "execution": {
     "iopub.execute_input": "2022-07-07T05:21:34.105242Z",
     "iopub.status.busy": "2022-07-07T05:21:34.104300Z",
     "iopub.status.idle": "2022-07-07T05:21:35.369535Z",
     "shell.execute_reply": "2022-07-07T05:21:35.368497Z"
    },
    "papermill": {
     "duration": 1.276632,
     "end_time": "2022-07-07T05:21:35.372172",
     "exception": false,
     "start_time": "2022-07-07T05:21:34.095540",
     "status": "completed"
    },
    "tags": []
   },
   "outputs": [],
   "source": [
    "import numpy as np\n",
    "import pandas as pd\n",
    "import matplotlib.pyplot as plt\n",
    "import seaborn as sns\n",
    "from sklearn.metrics import mean_squared_error\n",
    "from sklearn.model_selection import cross_val_score\n",
    "from collections import Counter\n",
    "from IPython.core.display import display, HTML\n",
    "sns.set_style('darkgrid')"
   ]
  },
  {
   "cell_type": "code",
   "execution_count": 3,
   "id": "ee7ee794",
   "metadata": {
    "execution": {
     "iopub.execute_input": "2022-07-07T05:21:35.389081Z",
     "iopub.status.busy": "2022-07-07T05:21:35.387847Z",
     "iopub.status.idle": "2022-07-07T05:21:35.451483Z",
     "shell.execute_reply": "2022-07-07T05:21:35.449957Z"
    },
    "papermill": {
     "duration": 0.074868,
     "end_time": "2022-07-07T05:21:35.454130",
     "exception": false,
     "start_time": "2022-07-07T05:21:35.379262",
     "status": "completed"
    },
    "tags": []
   },
   "outputs": [
    {
     "data": {
      "text/html": [
       "<div>\n",
       "<style scoped>\n",
       "    .dataframe tbody tr th:only-of-type {\n",
       "        vertical-align: middle;\n",
       "    }\n",
       "\n",
       "    .dataframe tbody tr th {\n",
       "        vertical-align: top;\n",
       "    }\n",
       "\n",
       "    .dataframe thead th {\n",
       "        text-align: right;\n",
       "    }\n",
       "</style>\n",
       "<table border=\"1\" class=\"dataframe\">\n",
       "  <thead>\n",
       "    <tr style=\"text-align: right;\">\n",
       "      <th></th>\n",
       "      <th>CRIM</th>\n",
       "      <th>ZN</th>\n",
       "      <th>INDUS</th>\n",
       "      <th>CHAS</th>\n",
       "      <th>NOX</th>\n",
       "      <th>RM</th>\n",
       "      <th>AGE</th>\n",
       "      <th>DIS</th>\n",
       "      <th>RAD</th>\n",
       "      <th>TAX</th>\n",
       "      <th>PTRATIO</th>\n",
       "      <th>B</th>\n",
       "      <th>LSTAT</th>\n",
       "      <th>MEDV</th>\n",
       "    </tr>\n",
       "  </thead>\n",
       "  <tbody>\n",
       "    <tr>\n",
       "      <th>0</th>\n",
       "      <td>0.00632</td>\n",
       "      <td>18.0</td>\n",
       "      <td>2.31</td>\n",
       "      <td>0</td>\n",
       "      <td>0.538</td>\n",
       "      <td>6.575</td>\n",
       "      <td>65.2</td>\n",
       "      <td>4.0900</td>\n",
       "      <td>1</td>\n",
       "      <td>296.0</td>\n",
       "      <td>15.3</td>\n",
       "      <td>396.90</td>\n",
       "      <td>4.98</td>\n",
       "      <td>24.0</td>\n",
       "    </tr>\n",
       "    <tr>\n",
       "      <th>1</th>\n",
       "      <td>0.02731</td>\n",
       "      <td>0.0</td>\n",
       "      <td>7.07</td>\n",
       "      <td>0</td>\n",
       "      <td>0.469</td>\n",
       "      <td>6.421</td>\n",
       "      <td>78.9</td>\n",
       "      <td>4.9671</td>\n",
       "      <td>2</td>\n",
       "      <td>242.0</td>\n",
       "      <td>17.8</td>\n",
       "      <td>396.90</td>\n",
       "      <td>9.14</td>\n",
       "      <td>21.6</td>\n",
       "    </tr>\n",
       "    <tr>\n",
       "      <th>2</th>\n",
       "      <td>0.02729</td>\n",
       "      <td>0.0</td>\n",
       "      <td>7.07</td>\n",
       "      <td>0</td>\n",
       "      <td>0.469</td>\n",
       "      <td>7.185</td>\n",
       "      <td>61.1</td>\n",
       "      <td>4.9671</td>\n",
       "      <td>2</td>\n",
       "      <td>242.0</td>\n",
       "      <td>17.8</td>\n",
       "      <td>392.83</td>\n",
       "      <td>4.03</td>\n",
       "      <td>34.7</td>\n",
       "    </tr>\n",
       "    <tr>\n",
       "      <th>3</th>\n",
       "      <td>0.03237</td>\n",
       "      <td>0.0</td>\n",
       "      <td>2.18</td>\n",
       "      <td>0</td>\n",
       "      <td>0.458</td>\n",
       "      <td>6.998</td>\n",
       "      <td>45.8</td>\n",
       "      <td>6.0622</td>\n",
       "      <td>3</td>\n",
       "      <td>222.0</td>\n",
       "      <td>18.7</td>\n",
       "      <td>394.63</td>\n",
       "      <td>2.94</td>\n",
       "      <td>33.4</td>\n",
       "    </tr>\n",
       "    <tr>\n",
       "      <th>4</th>\n",
       "      <td>0.06905</td>\n",
       "      <td>0.0</td>\n",
       "      <td>2.18</td>\n",
       "      <td>0</td>\n",
       "      <td>0.458</td>\n",
       "      <td>7.147</td>\n",
       "      <td>54.2</td>\n",
       "      <td>6.0622</td>\n",
       "      <td>3</td>\n",
       "      <td>222.0</td>\n",
       "      <td>18.7</td>\n",
       "      <td>396.90</td>\n",
       "      <td>5.33</td>\n",
       "      <td>36.2</td>\n",
       "    </tr>\n",
       "    <tr>\n",
       "      <th>...</th>\n",
       "      <td>...</td>\n",
       "      <td>...</td>\n",
       "      <td>...</td>\n",
       "      <td>...</td>\n",
       "      <td>...</td>\n",
       "      <td>...</td>\n",
       "      <td>...</td>\n",
       "      <td>...</td>\n",
       "      <td>...</td>\n",
       "      <td>...</td>\n",
       "      <td>...</td>\n",
       "      <td>...</td>\n",
       "      <td>...</td>\n",
       "      <td>...</td>\n",
       "    </tr>\n",
       "    <tr>\n",
       "      <th>501</th>\n",
       "      <td>0.06263</td>\n",
       "      <td>0.0</td>\n",
       "      <td>11.93</td>\n",
       "      <td>0</td>\n",
       "      <td>0.573</td>\n",
       "      <td>6.593</td>\n",
       "      <td>69.1</td>\n",
       "      <td>2.4786</td>\n",
       "      <td>1</td>\n",
       "      <td>273.0</td>\n",
       "      <td>21.0</td>\n",
       "      <td>391.99</td>\n",
       "      <td>9.67</td>\n",
       "      <td>22.4</td>\n",
       "    </tr>\n",
       "    <tr>\n",
       "      <th>502</th>\n",
       "      <td>0.04527</td>\n",
       "      <td>0.0</td>\n",
       "      <td>11.93</td>\n",
       "      <td>0</td>\n",
       "      <td>0.573</td>\n",
       "      <td>6.120</td>\n",
       "      <td>76.7</td>\n",
       "      <td>2.2875</td>\n",
       "      <td>1</td>\n",
       "      <td>273.0</td>\n",
       "      <td>21.0</td>\n",
       "      <td>396.90</td>\n",
       "      <td>9.08</td>\n",
       "      <td>20.6</td>\n",
       "    </tr>\n",
       "    <tr>\n",
       "      <th>503</th>\n",
       "      <td>0.06076</td>\n",
       "      <td>0.0</td>\n",
       "      <td>11.93</td>\n",
       "      <td>0</td>\n",
       "      <td>0.573</td>\n",
       "      <td>6.976</td>\n",
       "      <td>91.0</td>\n",
       "      <td>2.1675</td>\n",
       "      <td>1</td>\n",
       "      <td>273.0</td>\n",
       "      <td>21.0</td>\n",
       "      <td>396.90</td>\n",
       "      <td>5.64</td>\n",
       "      <td>23.9</td>\n",
       "    </tr>\n",
       "    <tr>\n",
       "      <th>504</th>\n",
       "      <td>0.10959</td>\n",
       "      <td>0.0</td>\n",
       "      <td>11.93</td>\n",
       "      <td>0</td>\n",
       "      <td>0.573</td>\n",
       "      <td>6.794</td>\n",
       "      <td>89.3</td>\n",
       "      <td>2.3889</td>\n",
       "      <td>1</td>\n",
       "      <td>273.0</td>\n",
       "      <td>21.0</td>\n",
       "      <td>393.45</td>\n",
       "      <td>6.48</td>\n",
       "      <td>22.0</td>\n",
       "    </tr>\n",
       "    <tr>\n",
       "      <th>505</th>\n",
       "      <td>0.04741</td>\n",
       "      <td>0.0</td>\n",
       "      <td>11.93</td>\n",
       "      <td>0</td>\n",
       "      <td>0.573</td>\n",
       "      <td>6.030</td>\n",
       "      <td>80.8</td>\n",
       "      <td>2.5050</td>\n",
       "      <td>1</td>\n",
       "      <td>273.0</td>\n",
       "      <td>21.0</td>\n",
       "      <td>396.90</td>\n",
       "      <td>7.88</td>\n",
       "      <td>11.9</td>\n",
       "    </tr>\n",
       "  </tbody>\n",
       "</table>\n",
       "<p>506 rows × 14 columns</p>\n",
       "</div>"
      ],
      "text/plain": [
       "        CRIM    ZN  INDUS  CHAS    NOX     RM   AGE     DIS  RAD    TAX  \\\n",
       "0    0.00632  18.0   2.31     0  0.538  6.575  65.2  4.0900    1  296.0   \n",
       "1    0.02731   0.0   7.07     0  0.469  6.421  78.9  4.9671    2  242.0   \n",
       "2    0.02729   0.0   7.07     0  0.469  7.185  61.1  4.9671    2  242.0   \n",
       "3    0.03237   0.0   2.18     0  0.458  6.998  45.8  6.0622    3  222.0   \n",
       "4    0.06905   0.0   2.18     0  0.458  7.147  54.2  6.0622    3  222.0   \n",
       "..       ...   ...    ...   ...    ...    ...   ...     ...  ...    ...   \n",
       "501  0.06263   0.0  11.93     0  0.573  6.593  69.1  2.4786    1  273.0   \n",
       "502  0.04527   0.0  11.93     0  0.573  6.120  76.7  2.2875    1  273.0   \n",
       "503  0.06076   0.0  11.93     0  0.573  6.976  91.0  2.1675    1  273.0   \n",
       "504  0.10959   0.0  11.93     0  0.573  6.794  89.3  2.3889    1  273.0   \n",
       "505  0.04741   0.0  11.93     0  0.573  6.030  80.8  2.5050    1  273.0   \n",
       "\n",
       "     PTRATIO       B  LSTAT  MEDV  \n",
       "0       15.3  396.90   4.98  24.0  \n",
       "1       17.8  396.90   9.14  21.6  \n",
       "2       17.8  392.83   4.03  34.7  \n",
       "3       18.7  394.63   2.94  33.4  \n",
       "4       18.7  396.90   5.33  36.2  \n",
       "..       ...     ...    ...   ...  \n",
       "501     21.0  391.99   9.67  22.4  \n",
       "502     21.0  396.90   9.08  20.6  \n",
       "503     21.0  396.90   5.64  23.9  \n",
       "504     21.0  393.45   6.48  22.0  \n",
       "505     21.0  396.90   7.88  11.9  \n",
       "\n",
       "[506 rows x 14 columns]"
      ]
     },
     "execution_count": 3,
     "metadata": {},
     "output_type": "execute_result"
    }
   ],
   "source": [
    "df=pd.read_csv('/kaggle/input/the-boston-houseprice-data/boston.csv')\n",
    "df"
   ]
  },
  {
   "cell_type": "code",
   "execution_count": 4,
   "id": "b0c05da7",
   "metadata": {
    "execution": {
     "iopub.execute_input": "2022-07-07T05:21:35.471886Z",
     "iopub.status.busy": "2022-07-07T05:21:35.471422Z",
     "iopub.status.idle": "2022-07-07T05:21:35.496516Z",
     "shell.execute_reply": "2022-07-07T05:21:35.495228Z"
    },
    "papermill": {
     "duration": 0.036624,
     "end_time": "2022-07-07T05:21:35.498877",
     "exception": false,
     "start_time": "2022-07-07T05:21:35.462253",
     "status": "completed"
    },
    "tags": []
   },
   "outputs": [
    {
     "name": "stdout",
     "output_type": "stream",
     "text": [
      "<class 'pandas.core.frame.DataFrame'>\n",
      "RangeIndex: 506 entries, 0 to 505\n",
      "Data columns (total 14 columns):\n",
      " #   Column   Non-Null Count  Dtype  \n",
      "---  ------   --------------  -----  \n",
      " 0   CRIM     506 non-null    float64\n",
      " 1   ZN       506 non-null    float64\n",
      " 2   INDUS    506 non-null    float64\n",
      " 3   CHAS     506 non-null    int64  \n",
      " 4   NOX      506 non-null    float64\n",
      " 5   RM       506 non-null    float64\n",
      " 6   AGE      506 non-null    float64\n",
      " 7   DIS      506 non-null    float64\n",
      " 8   RAD      506 non-null    int64  \n",
      " 9   TAX      506 non-null    float64\n",
      " 10  PTRATIO  506 non-null    float64\n",
      " 11  B        506 non-null    float64\n",
      " 12  LSTAT    506 non-null    float64\n",
      " 13  MEDV     506 non-null    float64\n",
      "dtypes: float64(12), int64(2)\n",
      "memory usage: 55.5 KB\n"
     ]
    }
   ],
   "source": [
    "df.info()"
   ]
  },
  {
   "cell_type": "code",
   "execution_count": 5,
   "id": "de6fc8cb",
   "metadata": {
    "execution": {
     "iopub.execute_input": "2022-07-07T05:21:35.516003Z",
     "iopub.status.busy": "2022-07-07T05:21:35.515587Z",
     "iopub.status.idle": "2022-07-07T05:21:35.528413Z",
     "shell.execute_reply": "2022-07-07T05:21:35.526498Z"
    },
    "papermill": {
     "duration": 0.024725,
     "end_time": "2022-07-07T05:21:35.531312",
     "exception": false,
     "start_time": "2022-07-07T05:21:35.506587",
     "status": "completed"
    },
    "tags": []
   },
   "outputs": [
    {
     "name": "stdout",
     "output_type": "stream",
     "text": [
      "CRIM       0\n",
      "ZN         0\n",
      "INDUS      0\n",
      "CHAS       0\n",
      "NOX        0\n",
      "RM         0\n",
      "AGE        0\n",
      "DIS        0\n",
      "RAD        0\n",
      "TAX        0\n",
      "PTRATIO    0\n",
      "B          0\n",
      "LSTAT      0\n",
      "MEDV       0\n",
      "dtype: int64\n"
     ]
    }
   ],
   "source": [
    "print(df.isnull().sum().sort_values(ascending=False))"
   ]
  },
  {
   "cell_type": "code",
   "execution_count": 6,
   "id": "569fe229",
   "metadata": {
    "execution": {
     "iopub.execute_input": "2022-07-07T05:21:35.549019Z",
     "iopub.status.busy": "2022-07-07T05:21:35.548472Z",
     "iopub.status.idle": "2022-07-07T05:21:39.381794Z",
     "shell.execute_reply": "2022-07-07T05:21:39.380501Z"
    },
    "papermill": {
     "duration": 3.845503,
     "end_time": "2022-07-07T05:21:39.384623",
     "exception": false,
     "start_time": "2022-07-07T05:21:35.539120",
     "status": "completed"
    },
    "tags": []
   },
   "outputs": [
    {
     "data": {
      "image/png": "[encoded data removed]",
      "text/plain": [
       "<Figure size 1440x1080 with 16 Axes>"
      ]
     },
     "metadata": {},
     "output_type": "display_data"
    }
   ],
   "source": [
    "df.hist(bins=50, figsize=(20,15))\n",
    "plt.show()"
   ]
  },
  {
   "cell_type": "code",
   "execution_count": 7,
   "id": "d1d2163b",
   "metadata": {
    "execution": {
     "iopub.execute_input": "2022-07-07T05:21:39.406450Z",
     "iopub.status.busy": "2022-07-07T05:21:39.405762Z",
     "iopub.status.idle": "2022-07-07T05:21:40.482960Z",
     "shell.execute_reply": "2022-07-07T05:21:40.481729Z"
    },
    "papermill": {
     "duration": 1.092921,
     "end_time": "2022-07-07T05:21:40.487064",
     "exception": false,
     "start_time": "2022-07-07T05:21:39.394143",
     "status": "completed"
    },
    "tags": []
   },
   "outputs": [
    {
     "data": {
      "image/png": "[encoded data removed]",
      "text/plain": [
       "<Figure size 720x720 with 2 Axes>"
      ]
     },
     "metadata": {},
     "output_type": "display_data"
    }
   ],
   "source": [
    "# Heatmap\n",
    "corr_matrix = df.corr()\n",
    "plt.figure(figsize = (10,10))\n",
    "sns_plot=sns.heatmap(corr_matrix,annot=True)\n",
    "plt.show()"
   ]
  },
  {
   "cell_type": "code",
   "execution_count": 8,
   "id": "ab079afd",
   "metadata": {
    "execution": {
     "iopub.execute_input": "2022-07-07T05:21:40.511563Z",
     "iopub.status.busy": "2022-07-07T05:21:40.510879Z",
     "iopub.status.idle": "2022-07-07T05:21:40.518766Z",
     "shell.execute_reply": "2022-07-07T05:21:40.517599Z"
    },
    "papermill": {
     "duration": 0.023119,
     "end_time": "2022-07-07T05:21:40.521286",
     "exception": false,
     "start_time": "2022-07-07T05:21:40.498167",
     "status": "completed"
    },
    "tags": []
   },
   "outputs": [
    {
     "name": "stdout",
     "output_type": "stream",
     "text": [
      " X_shape: (506, 13) \n",
      " y_shape: (506,)\n"
     ]
    }
   ],
   "source": [
    "y=df.iloc[:,-1].values\n",
    "X=df.iloc[:,:-1].values\n",
    "print(f' X_shape: {X.shape} \\n y_shape: {y.shape}')"
   ]
  },
  {
   "cell_type": "code",
   "execution_count": 9,
   "id": "35b3b8d6",
   "metadata": {
    "execution": {
     "iopub.execute_input": "2022-07-07T05:21:40.547896Z",
     "iopub.status.busy": "2022-07-07T05:21:40.547448Z",
     "iopub.status.idle": "2022-07-07T05:21:40.554499Z",
     "shell.execute_reply": "2022-07-07T05:21:40.553359Z"
    },
    "papermill": {
     "duration": 0.023795,
     "end_time": "2022-07-07T05:21:40.557009",
     "exception": false,
     "start_time": "2022-07-07T05:21:40.533214",
     "status": "completed"
    },
    "tags": []
   },
   "outputs": [],
   "source": [
    "from sklearn.model_selection import train_test_split\n",
    "X_train, X_test, y_train, y_test = train_test_split(X, y, test_size = 0.3, random_state = 25)"
   ]
  },
  {
   "cell_type": "code",
   "execution_count": 10,
   "id": "cffe293d",
   "metadata": {
    "execution": {
     "iopub.execute_input": "2022-07-07T05:21:40.580870Z",
     "iopub.status.busy": "2022-07-07T05:21:40.580411Z",
     "iopub.status.idle": "2022-07-07T05:21:40.586544Z",
     "shell.execute_reply": "2022-07-07T05:21:40.585730Z"
    },
    "papermill": {
     "duration": 0.021101,
     "end_time": "2022-07-07T05:21:40.589085",
     "exception": false,
     "start_time": "2022-07-07T05:21:40.567984",
     "status": "completed"
    },
    "tags": []
   },
   "outputs": [
    {
     "name": "stdout",
     "output_type": "stream",
     "text": [
      "Shape of X_train:  (354, 13)\n",
      "Shape of X_test:  (152, 13)\n",
      "Shape of y_train:  (354,)\n",
      "Shape of y_test (152,)\n"
     ]
    }
   ],
   "source": [
    "print(\"Shape of X_train: \",X_train.shape)\n",
    "print(\"Shape of X_test: \", X_test.shape)\n",
    "print(\"Shape of y_train: \",y_train.shape)\n",
    "print(\"Shape of y_test\",y_test.shape)"
   ]
  },
  {
   "cell_type": "code",
   "execution_count": 11,
   "id": "e039a3ae",
   "metadata": {
    "execution": {
     "iopub.execute_input": "2022-07-07T05:21:40.612444Z",
     "iopub.status.busy": "2022-07-07T05:21:40.611419Z",
     "iopub.status.idle": "2022-07-07T05:21:40.706282Z",
     "shell.execute_reply": "2022-07-07T05:21:40.704734Z"
    },
    "papermill": {
     "duration": 0.109125,
     "end_time": "2022-07-07T05:21:40.708829",
     "exception": false,
     "start_time": "2022-07-07T05:21:40.599704",
     "status": "completed"
    },
    "tags": []
   },
   "outputs": [
    {
     "data": {
      "text/plain": [
       "LinearRegression()"
      ]
     },
     "execution_count": 11,
     "metadata": {},
     "output_type": "execute_result"
    }
   ],
   "source": [
    "from sklearn.linear_model import LinearRegression\n",
    "regressor_linear = LinearRegression()\n",
    "regressor_linear.fit(X_train, y_train)"
   ]
  },
  {
   "cell_type": "code",
   "execution_count": 12,
   "id": "0bef18f3",
   "metadata": {
    "execution": {
     "iopub.execute_input": "2022-07-07T05:21:40.733012Z",
     "iopub.status.busy": "2022-07-07T05:21:40.732372Z",
     "iopub.status.idle": "2022-07-07T05:21:40.761414Z",
     "shell.execute_reply": "2022-07-07T05:21:40.760600Z"
    },
    "papermill": {
     "duration": 0.043747,
     "end_time": "2022-07-07T05:21:40.763915",
     "exception": false,
     "start_time": "2022-07-07T05:21:40.720168",
     "status": "completed"
    },
    "tags": []
   },
   "outputs": [
    {
     "name": "stdout",
     "output_type": "stream",
     "text": [
      "CV:  0.6984854476156039\n",
      "R2_score (train):  0.7435787589010061\n",
      "R2_score (test):  0.7133593313710356\n",
      "RMSE:  4.647279745724208\n"
     ]
    }
   ],
   "source": [
    "from sklearn.metrics import r2_score\n",
    "\n",
    "# Predicting Cross Validation Score the Test set results\n",
    "cv_linear = cross_val_score(estimator = regressor_linear, X = X_train, y = y_train, cv = 10)\n",
    "\n",
    "# Predicting R2 Score the Train set results\n",
    "y_pred_linear_train = regressor_linear.predict(X_train)\n",
    "r2_score_linear_train = r2_score(y_train, y_pred_linear_train)\n",
    "\n",
    "# Predicting R2 Score the Test set results\n",
    "y_pred_linear_test = regressor_linear.predict(X_test)\n",
    "r2_score_linear_test = r2_score(y_test, y_pred_linear_test)\n",
    "\n",
    "# Predicting RMSE the Test set results\n",
    "rmse_linear = (np.sqrt(mean_squared_error(y_test, y_pred_linear_test)))\n",
    "print(\"CV: \", cv_linear.mean())\n",
    "print('R2_score (train): ', r2_score_linear_train)\n",
    "print('R2_score (test): ', r2_score_linear_test)\n",
    "print(\"RMSE: \", rmse_linear)"
   ]
  },
  {
   "cell_type": "code",
   "execution_count": 13,
   "id": "c70d934b",
   "metadata": {
    "execution": {
     "iopub.execute_input": "2022-07-07T05:21:40.788164Z",
     "iopub.status.busy": "2022-07-07T05:21:40.787194Z",
     "iopub.status.idle": "2022-07-07T05:21:40.810254Z",
     "shell.execute_reply": "2022-07-07T05:21:40.808992Z"
    },
    "papermill": {
     "duration": 0.03863,
     "end_time": "2022-07-07T05:21:40.813462",
     "exception": false,
     "start_time": "2022-07-07T05:21:40.774832",
     "status": "completed"
    },
    "tags": []
   },
   "outputs": [
    {
     "data": {
      "text/plain": [
       "LinearRegression()"
      ]
     },
     "execution_count": 13,
     "metadata": {},
     "output_type": "execute_result"
    }
   ],
   "source": [
    "from sklearn.preprocessing import PolynomialFeatures\n",
    "poly_reg = PolynomialFeatures(degree = 2)\n",
    "X_poly = poly_reg.fit_transform(X_train)\n",
    "poly_reg.fit(X_poly, y_train)\n",
    "regressor_poly2 = LinearRegression()\n",
    "regressor_poly2.fit(X_poly, y_train)"
   ]
  },
  {
   "cell_type": "code",
   "execution_count": 14,
   "id": "b09f4a68",
   "metadata": {
    "execution": {
     "iopub.execute_input": "2022-07-07T05:21:40.858424Z",
     "iopub.status.busy": "2022-07-07T05:21:40.857736Z",
     "iopub.status.idle": "2022-07-07T05:21:40.921649Z",
     "shell.execute_reply": "2022-07-07T05:21:40.920350Z"
    },
    "papermill": {
     "duration": 0.091161,
     "end_time": "2022-07-07T05:21:40.925938",
     "exception": false,
     "start_time": "2022-07-07T05:21:40.834777",
     "status": "completed"
    },
    "tags": []
   },
   "outputs": [
    {
     "name": "stdout",
     "output_type": "stream",
     "text": [
      "CV:  0.6984854476156039\n",
      "R2_score (train):  0.9306558486685702\n",
      "R2_score (test):  0.7665134368499851\n",
      "RMSE:  4.194313207997023\n"
     ]
    }
   ],
   "source": [
    "from sklearn.metrics import r2_score\n",
    "\n",
    "# Predicting Cross Validation Score the Test set results\n",
    "cv_poly2 = cross_val_score(estimator = regressor_poly2, X = X_train, y = y_train, cv = 10)\n",
    "\n",
    "# Predicting R2 Score the Train set results\n",
    "y_pred_poly2_train = regressor_poly2.predict(poly_reg.fit_transform(X_train))\n",
    "r2_score_poly2_train = r2_score(y_train, y_pred_poly2_train)\n",
    "\n",
    "# Predicting R2 Score the Test set results\n",
    "y_pred_poly2_test = regressor_poly2.predict(poly_reg.fit_transform(X_test))\n",
    "r2_score_poly2_test = r2_score(y_test, y_pred_poly2_test)\n",
    "\n",
    "# Predicting RMSE the Test set results\n",
    "rmse_poly2 = (np.sqrt(mean_squared_error(y_test, y_pred_poly2_test)))\n",
    "print('CV: ', cv_poly2.mean())\n",
    "print('R2_score (train): ', r2_score_poly2_train)\n",
    "print('R2_score (test): ', r2_score_poly2_test)\n",
    "print(\"RMSE: \", rmse_poly2)"
   ]
  },
  {
   "cell_type": "code",
   "execution_count": 15,
   "id": "8bd04fbb",
   "metadata": {
    "execution": {
     "iopub.execute_input": "2022-07-07T05:21:40.971882Z",
     "iopub.status.busy": "2022-07-07T05:21:40.971291Z",
     "iopub.status.idle": "2022-07-07T05:21:41.095853Z",
     "shell.execute_reply": "2022-07-07T05:21:41.094510Z"
    },
    "papermill": {
     "duration": 0.151973,
     "end_time": "2022-07-07T05:21:41.099248",
     "exception": false,
     "start_time": "2022-07-07T05:21:40.947275",
     "status": "completed"
    },
    "tags": []
   },
   "outputs": [
    {
     "data": {
      "text/plain": [
       "LinearRegression()"
      ]
     },
     "execution_count": 15,
     "metadata": {},
     "output_type": "execute_result"
    }
   ],
   "source": [
    "from sklearn.preprocessing import PolynomialFeatures\n",
    "poly_reg = PolynomialFeatures(degree = 3)\n",
    "X_poly = poly_reg.fit_transform(X_train)\n",
    "poly_reg.fit(X_poly, y_train)\n",
    "regressor_poly3 = LinearRegression()\n",
    "regressor_poly3.fit(X_poly, y_train)"
   ]
  },
  {
   "cell_type": "code",
   "execution_count": 16,
   "id": "8418f553",
   "metadata": {
    "execution": {
     "iopub.execute_input": "2022-07-07T05:21:41.144491Z",
     "iopub.status.busy": "2022-07-07T05:21:41.143814Z",
     "iopub.status.idle": "2022-07-07T05:21:41.199897Z",
     "shell.execute_reply": "2022-07-07T05:21:41.197344Z"
    },
    "papermill": {
     "duration": 0.08466,
     "end_time": "2022-07-07T05:21:41.204505",
     "exception": false,
     "start_time": "2022-07-07T05:21:41.119845",
     "status": "completed"
    },
    "tags": []
   },
   "outputs": [
    {
     "name": "stdout",
     "output_type": "stream",
     "text": [
      "CV:  0.6984854476156039\n",
      "R2_score (train):  1.0\n",
      "R2_score (test):  -2712.733813435286\n",
      "RMSE:  452.18227527925023\n"
     ]
    }
   ],
   "source": [
    "from sklearn.metrics import r2_score\n",
    "\n",
    "# Predicting Cross Validation Score the Test set results\n",
    "cv_poly3 = cross_val_score(estimator = regressor_poly3, X = X_train, y = y_train, cv = 10)\n",
    "\n",
    "# Predicting R2 Score the Train set result\n",
    "y_pred_poly3_train = regressor_poly3.predict(poly_reg.fit_transform(X_train))\n",
    "r2_score_poly3_train = r2_score(y_train, y_pred_poly3_train)\n",
    "# Predicting R2 Score the Test set results\n",
    "y_pred_poly3_test = regressor_poly3.predict(poly_reg.fit_transform(X_test))\n",
    "r2_score_poly3_test = r2_score(y_test, y_pred_poly3_test)\n",
    "\n",
    "# Predicting RMSE the Test set result\n",
    "rmse_poly3 = (np.sqrt(mean_squared_error(y_test, y_pred_poly3_test)))\n",
    "print('CV: ', cv_poly2.mean())\n",
    "print('R2_score (train): ', r2_score_poly3_train)\n",
    "print('R2_score (test): ', r2_score_poly3_test)\n",
    "print(\"RMSE: \", rmse_poly3)"
   ]
  },
  {
   "cell_type": "code",
   "execution_count": 17,
   "id": "288af804",
   "metadata": {
    "execution": {
     "iopub.execute_input": "2022-07-07T05:21:41.252463Z",
     "iopub.status.busy": "2022-07-07T05:21:41.251817Z",
     "iopub.status.idle": "2022-07-07T05:21:41.267399Z",
     "shell.execute_reply": "2022-07-07T05:21:41.266007Z"
    },
    "papermill": {
     "duration": 0.044914,
     "end_time": "2022-07-07T05:21:41.271629",
     "exception": false,
     "start_time": "2022-07-07T05:21:41.226715",
     "status": "completed"
    },
    "tags": []
   },
   "outputs": [],
   "source": [
    "from sklearn.preprocessing import StandardScaler\n",
    "sc_X = StandardScaler()\n",
    "sc_y = StandardScaler()\n",
    "X_scaled = sc_X.fit_transform(X_train)\n",
    "y_scaled = sc_y.fit_transform(y_train.reshape(-1,1))"
   ]
  },
  {
   "cell_type": "code",
   "execution_count": 18,
   "id": "77537dfe",
   "metadata": {
    "execution": {
     "iopub.execute_input": "2022-07-07T05:21:41.316887Z",
     "iopub.status.busy": "2022-07-07T05:21:41.315580Z",
     "iopub.status.idle": "2022-07-07T05:21:41.334629Z",
     "shell.execute_reply": "2022-07-07T05:21:41.333534Z"
    },
    "papermill": {
     "duration": 0.043378,
     "end_time": "2022-07-07T05:21:41.337134",
     "exception": false,
     "start_time": "2022-07-07T05:21:41.293756",
     "status": "completed"
    },
    "tags": []
   },
   "outputs": [
    {
     "data": {
      "text/plain": [
       "SVR()"
      ]
     },
     "execution_count": 18,
     "metadata": {},
     "output_type": "execute_result"
    }
   ],
   "source": [
    "from sklearn.svm import SVR\n",
    "regressor_svr = SVR(kernel = 'rbf', gamma = 'scale')\n",
    "regressor_svr.fit(X_scaled, y_scaled.ravel())\n"
   ]
  },
  {
   "cell_type": "code",
   "execution_count": 19,
   "id": "bb1ed3c6",
   "metadata": {
    "execution": {
     "iopub.execute_input": "2022-07-07T05:21:41.362596Z",
     "iopub.status.busy": "2022-07-07T05:21:41.362167Z",
     "iopub.status.idle": "2022-07-07T05:21:41.472482Z",
     "shell.execute_reply": "2022-07-07T05:21:41.471689Z"
    },
    "papermill": {
     "duration": 0.127284,
     "end_time": "2022-07-07T05:21:41.475872",
     "exception": false,
     "start_time": "2022-07-07T05:21:41.348588",
     "status": "completed"
    },
    "tags": []
   },
   "outputs": [
    {
     "name": "stdout",
     "output_type": "stream",
     "text": [
      "CV:  0.782600693247584\n",
      "R2_score (train):  0.8742715669147498\n",
      "R2_score (test):  0.8044070157723574\n",
      "RMSE:  3.8388977809328355\n"
     ]
    }
   ],
   "source": [
    "from sklearn.metrics import r2_score\n",
    "\n",
    "# Predicting Cross Validation Score\n",
    "cv_svr = cross_val_score(estimator = regressor_svr, X = X_scaled, y = y_scaled.ravel(), cv = 10)\n",
    "\n",
    "# Predicting R2 Score the Train set results\n",
    "y_pred_svr_train = sc_y.inverse_transform(regressor_svr.predict(sc_X.transform(X_train)).reshape(-1,1))\n",
    "r2_score_svr_train = r2_score(y_train, y_pred_svr_train)\n",
    "\n",
    "# Predicting R2 Score the Test set results\n",
    "y_pred_svr_test = sc_y.inverse_transform(regressor_svr.predict(sc_X.transform(X_test)).reshape(-1,1))\n",
    "r2_score_svr_test = r2_score(y_test, y_pred_svr_test)\n",
    "\n",
    "# Predicting RMSE the Test set results\n",
    "rmse_svr = (np.sqrt(mean_squared_error(y_test, y_pred_svr_test)))\n",
    "print('CV: ', cv_svr.mean())\n",
    "print('R2_score (train): ', r2_score_svr_train)\n",
    "print('R2_score (test): ', r2_score_svr_test)\n",
    "print(\"RMSE: \", rmse_svr)"
   ]
  },
  {
   "cell_type": "code",
   "execution_count": 20,
   "id": "8b8c872c",
   "metadata": {
    "execution": {
     "iopub.execute_input": "2022-07-07T05:21:41.502960Z",
     "iopub.status.busy": "2022-07-07T05:21:41.502362Z",
     "iopub.status.idle": "2022-07-07T05:21:41.590804Z",
     "shell.execute_reply": "2022-07-07T05:21:41.589452Z"
    },
    "papermill": {
     "duration": 0.104741,
     "end_time": "2022-07-07T05:21:41.593521",
     "exception": false,
     "start_time": "2022-07-07T05:21:41.488780",
     "status": "completed"
    },
    "tags": []
   },
   "outputs": [
    {
     "data": {
      "text/plain": [
       "DecisionTreeRegressor(random_state=0)"
      ]
     },
     "execution_count": 20,
     "metadata": {},
     "output_type": "execute_result"
    }
   ],
   "source": [
    "from sklearn.tree import DecisionTreeRegressor\n",
    "regressor_dt = DecisionTreeRegressor(random_state = 0)\n",
    "regressor_dt.fit(X_train, y_train)"
   ]
  },
  {
   "cell_type": "code",
   "execution_count": 21,
   "id": "9f183be7",
   "metadata": {
    "execution": {
     "iopub.execute_input": "2022-07-07T05:21:41.619328Z",
     "iopub.status.busy": "2022-07-07T05:21:41.618884Z",
     "iopub.status.idle": "2022-07-07T05:21:41.673271Z",
     "shell.execute_reply": "2022-07-07T05:21:41.672047Z"
    },
    "papermill": {
     "duration": 0.070709,
     "end_time": "2022-07-07T05:21:41.676077",
     "exception": false,
     "start_time": "2022-07-07T05:21:41.605368",
     "status": "completed"
    },
    "tags": []
   },
   "outputs": [
    {
     "name": "stdout",
     "output_type": "stream",
     "text": [
      "CV:  0.6177422304890111\n",
      "R2_score (train):  1.0\n",
      "R2_score (test):  0.5989917396644069\n",
      "RMSE:  5.496757417356451\n"
     ]
    }
   ],
   "source": [
    "from sklearn.metrics import r2_score\n",
    "\n",
    "# Predicting Cross Validation Score\n",
    "cv_dt = cross_val_score(estimator = regressor_dt, X = X_train, y = y_train, cv = 10)\n",
    "\n",
    "# Predicting R2 Score the Train set results\n",
    "y_pred_dt_train = regressor_dt.predict(X_train)\n",
    "r2_score_dt_train = r2_score(y_train, y_pred_dt_train)\n",
    "# Predicting R2 Score the Test set results\n",
    "y_pred_dt_test = regressor_dt.predict(X_test)\n",
    "r2_score_dt_test = r2_score(y_test, y_pred_dt_test)\n",
    "\n",
    "# Predicting RMSE the Test set results\n",
    "rmse_dt = (np.sqrt(mean_squared_error(y_test, y_pred_dt_test)))\n",
    "print('CV: ', cv_dt.mean())\n",
    "print('R2_score (train): ', r2_score_dt_train)\n",
    "print('R2_score (test): ', r2_score_dt_test)\n",
    "print(\"RMSE: \", rmse_dt)"
   ]
  },
  {
   "cell_type": "code",
   "execution_count": 22,
   "id": "b9582eb0",
   "metadata": {
    "execution": {
     "iopub.execute_input": "2022-07-07T05:21:41.701716Z",
     "iopub.status.busy": "2022-07-07T05:21:41.700837Z",
     "iopub.status.idle": "2022-07-07T05:21:43.312014Z",
     "shell.execute_reply": "2022-07-07T05:21:43.310557Z"
    },
    "papermill": {
     "duration": 1.626476,
     "end_time": "2022-07-07T05:21:43.314326",
     "exception": false,
     "start_time": "2022-07-07T05:21:41.687850",
     "status": "completed"
    },
    "tags": []
   },
   "outputs": [
    {
     "data": {
      "text/plain": [
       "RandomForestRegressor(n_estimators=500, random_state=0)"
      ]
     },
     "execution_count": 22,
     "metadata": {},
     "output_type": "execute_result"
    }
   ],
   "source": [
    "from sklearn.ensemble import RandomForestRegressor\n",
    "regressor_rf = RandomForestRegressor(n_estimators = 500, random_state = 0)\n",
    "regressor_rf.fit(X_train, y_train.ravel())"
   ]
  },
  {
   "cell_type": "code",
   "execution_count": 23,
   "id": "94989c36",
   "metadata": {
    "execution": {
     "iopub.execute_input": "2022-07-07T05:21:43.340487Z",
     "iopub.status.busy": "2022-07-07T05:21:43.339371Z",
     "iopub.status.idle": "2022-07-07T05:21:58.083096Z",
     "shell.execute_reply": "2022-07-07T05:21:58.081384Z"
    },
    "papermill": {
     "duration": 14.760945,
     "end_time": "2022-07-07T05:21:58.087296",
     "exception": false,
     "start_time": "2022-07-07T05:21:43.326351",
     "status": "completed"
    },
    "tags": []
   },
   "outputs": [
    {
     "name": "stdout",
     "output_type": "stream",
     "text": [
      "CV:  0.8182118617652808\n",
      "R2_score (train):  0.9768407108850092\n",
      "R2_score (test):  0.8637486208767902\n",
      "RMSE:  3.204057971213175\n"
     ]
    }
   ],
   "source": [
    "from sklearn.metrics import r2_score\n",
    "\n",
    "# Predicting Cross Validation Score\n",
    "cv_rf = cross_val_score(estimator = regressor_rf, X = X_scaled, y = y_train.ravel(), cv = 10)\n",
    "\n",
    "# Predicting R2 Score the Train set results\n",
    "y_pred_rf_train = regressor_rf.predict(X_train)\n",
    "r2_score_rf_train = r2_score(y_train, y_pred_rf_train)\n",
    "\n",
    "# Predicting R2 Score the Test set results\n",
    "y_pred_rf_test = regressor_rf.predict(X_test)\n",
    "r2_score_rf_test = r2_score(y_test, y_pred_rf_test)\n",
    "\n",
    "# Predicting RMSE the Test set results\n",
    "rmse_rf = (np.sqrt(mean_squared_error(y_test, y_pred_rf_test)))\n",
    "print('CV: ', cv_rf.mean())\n",
    "print('R2_score (train): ', r2_score_rf_train)\n",
    "print('R2_score (test): ', r2_score_rf_test)\n",
    "print(\"RMSE: \", rmse_rf)"
   ]
  }
 ],
 "metadata": {
  "kernelspec": {
   "display_name": "Python 3",
   "language": "python",
   "name": "python3"
  },
  "language_info": {
   "codemirror_mode": {
    "name": "ipython",
    "version": 3
   },
   "file_extension": ".py",
   "mimetype": "text/x-python",
   "name": "python",
   "nbconvert_exporter": "python",
   "pygments_lexer": "ipython3",
   "version": "3.7.12"
  },
  "papermill": {
   "default_parameters": {},
   "duration": 35.727402,
   "end_time": "2022-07-07T05:21:59.225642",
   "environment_variables": {},
   "exception": null,
   "input_path": "__notebook__.ipynb",
   "output_path": "__notebook__.ipynb",
   "parameters": {},
   "start_time": "2022-07-07T05:21:23.498240",
   "version": "2.3.4"
  }
 },
 "nbformat": 4,
 "nbformat_minor": 5
}
