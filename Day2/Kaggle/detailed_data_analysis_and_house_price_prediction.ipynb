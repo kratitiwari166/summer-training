{
  "metadata": {
    "kernelspec": {
      "language": "python",
      "display_name": "Python 3",
      "name": "python3"
    },
    "language_info": {
      "name": "python",
      "version": "3.7.12",
      "mimetype": "text/x-python",
      "codemirror_mode": {
        "name": "ipython",
        "version": 3
      },
      "pygments_lexer": "ipython3",
      "nbconvert_exporter": "python",
      "file_extension": ".py"
    },
    "colab": {
      "name": "detailed-data-analysis-and-house-price-prediction.ipynb",
      "provenance": [],
      "collapsed_sections": [],
      "include_colab_link": true
    }
  },
  "nbformat_minor": 0,
  "nbformat": 4,
  "cells": [
    {
      "cell_type": "markdown",
      "metadata": {
        "id": "view-in-github",
        "colab_type": "text"
      },
      "source": [
        "<a href=\"https://colab.research.google.com/github/kratitiwari166/summer-training/blob/main/Day2/Kaggle/detailed_data_analysis_and_house_price_prediction.ipynb\" target=\"_parent\"><img src=\"https://colab.research.google.com/assets/colab-badge.svg\" alt=\"Open In Colab\"/></a>"
      ]
    },
    {
      "cell_type": "markdown",
      "source": [
        "# House price Prediction\n",
        "In this notebook I tried to bring detailed data analysis and some simple yet complex regression techniques. I hope you guys enjoy my analysis here."
      ],
      "metadata": {
        "id": "_Qpv2OC4fgt2"
      }
    },
    {
      "cell_type": "markdown",
      "source": [
        "In the first few cells I imported all necessary libraies and explored our train and test dataset."
      ],
      "metadata": {
        "id": "SlIgdg_Bfgt9"
      }
    },
    {
      "cell_type": "code",
      "source": [
        "import pandas as pd\n",
        "import numpy as np\n",
        "import matplotlib.pyplot as plt\n",
        "from sklearn.model_selection import train_test_split\n"
      ],
      "metadata": {
        "execution": {
          "iopub.status.busy": "2022-06-20T12:57:45.069829Z",
          "iopub.execute_input": "2022-06-20T12:57:45.070349Z",
          "iopub.status.idle": "2022-06-20T12:57:45.076031Z",
          "shell.execute_reply.started": "2022-06-20T12:57:45.070299Z",
          "shell.execute_reply": "2022-06-20T12:57:45.074763Z"
        },
        "trusted": true,
        "id": "aRivoHoVfgt-"
      },
      "execution_count": 41,
      "outputs": []
    },
    {
      "cell_type": "code",
      "source": [
        "training_dataset = pd.read_csv('/content/train.csv')\n",
        "testing_dataset = pd.read_csv('/content/test.csv')\n",
        "training_dataset.head()"
      ],
      "metadata": {
        "execution": {
          "iopub.status.busy": "2022-06-20T12:59:31.187049Z",
          "iopub.execute_input": "2022-06-20T12:59:31.187463Z",
          "iopub.status.idle": "2022-06-20T12:59:31.259551Z",
          "shell.execute_reply.started": "2022-06-20T12:59:31.187432Z",
          "shell.execute_reply": "2022-06-20T12:59:31.258591Z"
        },
        "trusted": true,
        "id": "7uRzfU_mfgt_",
        "outputId": "4a863a16-c498-4106-e4e1-e2eed6cc4c49",
        "colab": {
          "base_uri": "https://localhost:8080/",
          "height": 300
        }
      },
      "execution_count": 4,
      "outputs": [
        {
          "output_type": "execute_result",
          "data": {
            "text/plain": [
              "   Id  MSSubClass MSZoning  LotFrontage  LotArea Street Alley LotShape  \\\n",
              "0   1          60       RL         65.0     8450   Pave   NaN      Reg   \n",
              "1   2          20       RL         80.0     9600   Pave   NaN      Reg   \n",
              "2   3          60       RL         68.0    11250   Pave   NaN      IR1   \n",
              "3   4          70       RL         60.0     9550   Pave   NaN      IR1   \n",
              "4   5          60       RL         84.0    14260   Pave   NaN      IR1   \n",
              "\n",
              "  LandContour Utilities  ... PoolArea PoolQC Fence MiscFeature MiscVal MoSold  \\\n",
              "0         Lvl    AllPub  ...        0    NaN   NaN         NaN       0      2   \n",
              "1         Lvl    AllPub  ...        0    NaN   NaN         NaN       0      5   \n",
              "2         Lvl    AllPub  ...        0    NaN   NaN         NaN       0      9   \n",
              "3         Lvl    AllPub  ...        0    NaN   NaN         NaN       0      2   \n",
              "4         Lvl    AllPub  ...        0    NaN   NaN         NaN       0     12   \n",
              "\n",
              "  YrSold  SaleType  SaleCondition  SalePrice  \n",
              "0   2008        WD         Normal     208500  \n",
              "1   2007        WD         Normal     181500  \n",
              "2   2008        WD         Normal     223500  \n",
              "3   2006        WD        Abnorml     140000  \n",
              "4   2008        WD         Normal     250000  \n",
              "\n",
              "[5 rows x 81 columns]"
            ],
            "text/html": [
              "\n",
              "  <div id=\"df-3afcee28-e634-4665-aa4d-9e38959cf905\">\n",
              "    <div class=\"colab-df-container\">\n",
              "      <div>\n",
              "<style scoped>\n",
              "    .dataframe tbody tr th:only-of-type {\n",
              "        vertical-align: middle;\n",
              "    }\n",
              "\n",
              "    .dataframe tbody tr th {\n",
              "        vertical-align: top;\n",
              "    }\n",
              "\n",
              "    .dataframe thead th {\n",
              "        text-align: right;\n",
              "    }\n",
              "</style>\n",
              "<table border=\"1\" class=\"dataframe\">\n",
              "  <thead>\n",
              "    <tr style=\"text-align: right;\">\n",
              "      <th></th>\n",
              "      <th>Id</th>\n",
              "      <th>MSSubClass</th>\n",
              "      <th>MSZoning</th>\n",
              "      <th>LotFrontage</th>\n",
              "      <th>LotArea</th>\n",
              "      <th>Street</th>\n",
              "      <th>Alley</th>\n",
              "      <th>LotShape</th>\n",
              "      <th>LandContour</th>\n",
              "      <th>Utilities</th>\n",
              "      <th>...</th>\n",
              "      <th>PoolArea</th>\n",
              "      <th>PoolQC</th>\n",
              "      <th>Fence</th>\n",
              "      <th>MiscFeature</th>\n",
              "      <th>MiscVal</th>\n",
              "      <th>MoSold</th>\n",
              "      <th>YrSold</th>\n",
              "      <th>SaleType</th>\n",
              "      <th>SaleCondition</th>\n",
              "      <th>SalePrice</th>\n",
              "    </tr>\n",
              "  </thead>\n",
              "  <tbody>\n",
              "    <tr>\n",
              "      <th>0</th>\n",
              "      <td>1</td>\n",
              "      <td>60</td>\n",
              "      <td>RL</td>\n",
              "      <td>65.0</td>\n",
              "      <td>8450</td>\n",
              "      <td>Pave</td>\n",
              "      <td>NaN</td>\n",
              "      <td>Reg</td>\n",
              "      <td>Lvl</td>\n",
              "      <td>AllPub</td>\n",
              "      <td>...</td>\n",
              "      <td>0</td>\n",
              "      <td>NaN</td>\n",
              "      <td>NaN</td>\n",
              "      <td>NaN</td>\n",
              "      <td>0</td>\n",
              "      <td>2</td>\n",
              "      <td>2008</td>\n",
              "      <td>WD</td>\n",
              "      <td>Normal</td>\n",
              "      <td>208500</td>\n",
              "    </tr>\n",
              "    <tr>\n",
              "      <th>1</th>\n",
              "      <td>2</td>\n",
              "      <td>20</td>\n",
              "      <td>RL</td>\n",
              "      <td>80.0</td>\n",
              "      <td>9600</td>\n",
              "      <td>Pave</td>\n",
              "      <td>NaN</td>\n",
              "      <td>Reg</td>\n",
              "      <td>Lvl</td>\n",
              "      <td>AllPub</td>\n",
              "      <td>...</td>\n",
              "      <td>0</td>\n",
              "      <td>NaN</td>\n",
              "      <td>NaN</td>\n",
              "      <td>NaN</td>\n",
              "      <td>0</td>\n",
              "      <td>5</td>\n",
              "      <td>2007</td>\n",
              "      <td>WD</td>\n",
              "      <td>Normal</td>\n",
              "      <td>181500</td>\n",
              "    </tr>\n",
              "    <tr>\n",
              "      <th>2</th>\n",
              "      <td>3</td>\n",
              "      <td>60</td>\n",
              "      <td>RL</td>\n",
              "      <td>68.0</td>\n",
              "      <td>11250</td>\n",
              "      <td>Pave</td>\n",
              "      <td>NaN</td>\n",
              "      <td>IR1</td>\n",
              "      <td>Lvl</td>\n",
              "      <td>AllPub</td>\n",
              "      <td>...</td>\n",
              "      <td>0</td>\n",
              "      <td>NaN</td>\n",
              "      <td>NaN</td>\n",
              "      <td>NaN</td>\n",
              "      <td>0</td>\n",
              "      <td>9</td>\n",
              "      <td>2008</td>\n",
              "      <td>WD</td>\n",
              "      <td>Normal</td>\n",
              "      <td>223500</td>\n",
              "    </tr>\n",
              "    <tr>\n",
              "      <th>3</th>\n",
              "      <td>4</td>\n",
              "      <td>70</td>\n",
              "      <td>RL</td>\n",
              "      <td>60.0</td>\n",
              "      <td>9550</td>\n",
              "      <td>Pave</td>\n",
              "      <td>NaN</td>\n",
              "      <td>IR1</td>\n",
              "      <td>Lvl</td>\n",
              "      <td>AllPub</td>\n",
              "      <td>...</td>\n",
              "      <td>0</td>\n",
              "      <td>NaN</td>\n",
              "      <td>NaN</td>\n",
              "      <td>NaN</td>\n",
              "      <td>0</td>\n",
              "      <td>2</td>\n",
              "      <td>2006</td>\n",
              "      <td>WD</td>\n",
              "      <td>Abnorml</td>\n",
              "      <td>140000</td>\n",
              "    </tr>\n",
              "    <tr>\n",
              "      <th>4</th>\n",
              "      <td>5</td>\n",
              "      <td>60</td>\n",
              "      <td>RL</td>\n",
              "      <td>84.0</td>\n",
              "      <td>14260</td>\n",
              "      <td>Pave</td>\n",
              "      <td>NaN</td>\n",
              "      <td>IR1</td>\n",
              "      <td>Lvl</td>\n",
              "      <td>AllPub</td>\n",
              "      <td>...</td>\n",
              "      <td>0</td>\n",
              "      <td>NaN</td>\n",
              "      <td>NaN</td>\n",
              "      <td>NaN</td>\n",
              "      <td>0</td>\n",
              "      <td>12</td>\n",
              "      <td>2008</td>\n",
              "      <td>WD</td>\n",
              "      <td>Normal</td>\n",
              "      <td>250000</td>\n",
              "    </tr>\n",
              "  </tbody>\n",
              "</table>\n",
              "<p>5 rows × 81 columns</p>\n",
              "</div>\n",
              "      <button class=\"colab-df-convert\" onclick=\"convertToInteractive('df-3afcee28-e634-4665-aa4d-9e38959cf905')\"\n",
              "              title=\"Convert this dataframe to an interactive table.\"\n",
              "              style=\"display:none;\">\n",
              "        \n",
              "  <svg xmlns=\"http://www.w3.org/2000/svg\" height=\"24px\"viewBox=\"0 0 24 24\"\n",
              "       width=\"24px\">\n",
              "    <path d=\"M0 0h24v24H0V0z\" fill=\"none\"/>\n",
              "    <path d=\"M18.56 5.44l.94 2.06.94-2.06 2.06-.94-2.06-.94-.94-2.06-.94 2.06-2.06.94zm-11 1L8.5 8.5l.94-2.06 2.06-.94-2.06-.94L8.5 2.5l-.94 2.06-2.06.94zm10 10l.94 2.06.94-2.06 2.06-.94-2.06-.94-.94-2.06-.94 2.06-2.06.94z\"/><path d=\"M17.41 7.96l-1.37-1.37c-.4-.4-.92-.59-1.43-.59-.52 0-1.04.2-1.43.59L10.3 9.45l-7.72 7.72c-.78.78-.78 2.05 0 2.83L4 21.41c.39.39.9.59 1.41.59.51 0 1.02-.2 1.41-.59l7.78-7.78 2.81-2.81c.8-.78.8-2.07 0-2.86zM5.41 20L4 18.59l7.72-7.72 1.47 1.35L5.41 20z\"/>\n",
              "  </svg>\n",
              "      </button>\n",
              "      \n",
              "  <style>\n",
              "    .colab-df-container {\n",
              "      display:flex;\n",
              "      flex-wrap:wrap;\n",
              "      gap: 12px;\n",
              "    }\n",
              "\n",
              "    .colab-df-convert {\n",
              "      background-color: #E8F0FE;\n",
              "      border: none;\n",
              "      border-radius: 50%;\n",
              "      cursor: pointer;\n",
              "      display: none;\n",
              "      fill: #1967D2;\n",
              "      height: 32px;\n",
              "      padding: 0 0 0 0;\n",
              "      width: 32px;\n",
              "    }\n",
              "\n",
              "    .colab-df-convert:hover {\n",
              "      background-color: #E2EBFA;\n",
              "      box-shadow: 0px 1px 2px rgba(60, 64, 67, 0.3), 0px 1px 3px 1px rgba(60, 64, 67, 0.15);\n",
              "      fill: #174EA6;\n",
              "    }\n",
              "\n",
              "    [theme=dark] .colab-df-convert {\n",
              "      background-color: #3B4455;\n",
              "      fill: #D2E3FC;\n",
              "    }\n",
              "\n",
              "    [theme=dark] .colab-df-convert:hover {\n",
              "      background-color: #434B5C;\n",
              "      box-shadow: 0px 1px 3px 1px rgba(0, 0, 0, 0.15);\n",
              "      filter: drop-shadow(0px 1px 2px rgba(0, 0, 0, 0.3));\n",
              "      fill: #FFFFFF;\n",
              "    }\n",
              "  </style>\n",
              "\n",
              "      <script>\n",
              "        const buttonEl =\n",
              "          document.querySelector('#df-3afcee28-e634-4665-aa4d-9e38959cf905 button.colab-df-convert');\n",
              "        buttonEl.style.display =\n",
              "          google.colab.kernel.accessAllowed ? 'block' : 'none';\n",
              "\n",
              "        async function convertToInteractive(key) {\n",
              "          const element = document.querySelector('#df-3afcee28-e634-4665-aa4d-9e38959cf905');\n",
              "          const dataTable =\n",
              "            await google.colab.kernel.invokeFunction('convertToInteractive',\n",
              "                                                     [key], {});\n",
              "          if (!dataTable) return;\n",
              "\n",
              "          const docLinkHtml = 'Like what you see? Visit the ' +\n",
              "            '<a target=\"_blank\" href=https://colab.research.google.com/notebooks/data_table.ipynb>data table notebook</a>'\n",
              "            + ' to learn more about interactive tables.';\n",
              "          element.innerHTML = '';\n",
              "          dataTable['output_type'] = 'display_data';\n",
              "          await google.colab.output.renderOutput(dataTable, element);\n",
              "          const docLink = document.createElement('div');\n",
              "          docLink.innerHTML = docLinkHtml;\n",
              "          element.appendChild(docLink);\n",
              "        }\n",
              "      </script>\n",
              "    </div>\n",
              "  </div>\n",
              "  "
            ]
          },
          "metadata": {},
          "execution_count": 4
        }
      ]
    },
    {
      "cell_type": "code",
      "source": [
        "training_dataset.shape\n"
      ],
      "metadata": {
        "execution": {
          "iopub.status.busy": "2022-06-20T13:00:07.170582Z",
          "iopub.execute_input": "2022-06-20T13:00:07.171075Z",
          "iopub.status.idle": "2022-06-20T13:00:07.177152Z",
          "shell.execute_reply.started": "2022-06-20T13:00:07.171039Z",
          "shell.execute_reply": "2022-06-20T13:00:07.176328Z"
        },
        "trusted": true,
        "id": "99mOvRIPfguA",
        "outputId": "2ac780a5-2ac7-417f-954a-eeb16375b593",
        "colab": {
          "base_uri": "https://localhost:8080/"
        }
      },
      "execution_count": 25,
      "outputs": [
        {
          "output_type": "execute_result",
          "data": {
            "text/plain": [
              "(1455, 81)"
            ]
          },
          "metadata": {},
          "execution_count": 25
        }
      ]
    },
    {
      "cell_type": "code",
      "source": [
        "testing_dataset.isnull().sum()"
      ],
      "metadata": {
        "id": "0eIzbLxc67Pg",
        "outputId": "4d0ecb56-2e12-4eb4-c7d0-65b6ad34e125",
        "colab": {
          "base_uri": "https://localhost:8080/"
        }
      },
      "execution_count": 24,
      "outputs": [
        {
          "output_type": "execute_result",
          "data": {
            "text/plain": [
              "Id                 0\n",
              "MSSubClass         0\n",
              "MSZoning           4\n",
              "LotFrontage      227\n",
              "LotArea            0\n",
              "                ... \n",
              "MiscVal            0\n",
              "MoSold             0\n",
              "YrSold             0\n",
              "SaleType           1\n",
              "SaleCondition      0\n",
              "Length: 80, dtype: int64"
            ]
          },
          "metadata": {},
          "execution_count": 24
        }
      ]
    },
    {
      "cell_type": "code",
      "source": [
        "train.SalePrice.describe()"
      ],
      "metadata": {
        "execution": {
          "iopub.status.busy": "2022-06-20T13:00:59.376009Z",
          "iopub.execute_input": "2022-06-20T13:00:59.376498Z",
          "iopub.status.idle": "2022-06-20T13:00:59.393858Z",
          "shell.execute_reply.started": "2022-06-20T13:00:59.376444Z",
          "shell.execute_reply": "2022-06-20T13:00:59.392559Z"
        },
        "trusted": true,
        "id": "fXDfOsTFfguA",
        "outputId": "24d93e7e-617d-458f-fb64-6b0a36c692a0",
        "colab": {
          "base_uri": "https://localhost:8080/",
          "height": 169
        }
      },
      "execution_count": 27,
      "outputs": [
        {
          "output_type": "error",
          "ename": "NameError",
          "evalue": "ignored",
          "traceback": [
            "\u001b[0;31m---------------------------------------------------------------------------\u001b[0m",
            "\u001b[0;31mNameError\u001b[0m                                 Traceback (most recent call last)",
            "\u001b[0;32m<ipython-input-27-aa190d31b9f8>\u001b[0m in \u001b[0;36m<module>\u001b[0;34m()\u001b[0m\n\u001b[0;32m----> 1\u001b[0;31m \u001b[0mtrain\u001b[0m\u001b[0;34m.\u001b[0m\u001b[0mSalePrice\u001b[0m\u001b[0;34m.\u001b[0m\u001b[0mdescribe\u001b[0m\u001b[0;34m(\u001b[0m\u001b[0;34m)\u001b[0m\u001b[0;34m\u001b[0m\u001b[0;34m\u001b[0m\u001b[0m\n\u001b[0m",
            "\u001b[0;31mNameError\u001b[0m: name 'train' is not defined"
          ]
        }
      ]
    },
    {
      "cell_type": "code",
      "source": [
        ""
      ],
      "metadata": {
        "id": "2Vy8lt-h66aq"
      },
      "execution_count": null,
      "outputs": []
    },
    {
      "cell_type": "code",
      "source": [
        "plt.hist(training_dataset.SalePrice,color='Red')\n",
        "plt.show()"
      ],
      "metadata": {
        "execution": {
          "iopub.status.busy": "2022-06-20T13:02:51.889956Z",
          "iopub.execute_input": "2022-06-20T13:02:51.890565Z",
          "iopub.status.idle": "2022-06-20T13:02:52.129838Z",
          "shell.execute_reply.started": "2022-06-20T13:02:51.890511Z",
          "shell.execute_reply": "2022-06-20T13:02:52.128542Z"
        },
        "trusted": true,
        "id": "X_XSH_PQfguB",
        "outputId": "3b613eac-b9c3-458c-e9b1-9555f254b31b",
        "colab": {
          "base_uri": "https://localhost:8080/",
          "height": 265
        }
      },
      "execution_count": 9,
      "outputs": [
        {
          "output_type": "display_data",
          "data": {
            "text/plain": [
              "<Figure size 432x288 with 1 Axes>"
            ],
            "image/png": "[encoded data removed]"
          },
          "metadata": {
            "needs_background": "light"
          }
        }
      ]
    },
    {
      "cell_type": "code",
      "source": [
        "target =np.log(training_dataset.SalePrice)\n",
        "plt.hist(target,color='Blue')\n",
        "plt.show()"
      ],
      "metadata": {
        "execution": {
          "iopub.status.busy": "2022-06-20T13:05:21.984010Z",
          "iopub.execute_input": "2022-06-20T13:05:21.984472Z",
          "iopub.status.idle": "2022-06-20T13:05:22.182663Z",
          "shell.execute_reply.started": "2022-06-20T13:05:21.984429Z",
          "shell.execute_reply": "2022-06-20T13:05:22.181423Z"
        },
        "trusted": true,
        "id": "9sq7zCn2fguB",
        "outputId": "d6c55f72-628c-4522-b855-01ef3c87d10b",
        "colab": {
          "base_uri": "https://localhost:8080/",
          "height": 265
        }
      },
      "execution_count": 10,
      "outputs": [
        {
          "output_type": "display_data",
          "data": {
            "text/plain": [
              "<Figure size 432x288 with 1 Axes>"
            ],
            "image/png": "[encoded data removed]"
          },
          "metadata": {
            "needs_background": "light"
          }
        }
      ]
    },
    {
      "cell_type": "code",
      "source": [
        "numeric_features=training_dataset.select_dtypes(include=[np.number])\n",
        "numeric_features.dtypes\n"
      ],
      "metadata": {
        "execution": {
          "iopub.status.busy": "2022-06-20T13:14:30.254753Z",
          "iopub.execute_input": "2022-06-20T13:14:30.255151Z",
          "iopub.status.idle": "2022-06-20T13:14:30.266904Z",
          "shell.execute_reply.started": "2022-06-20T13:14:30.255121Z",
          "shell.execute_reply": "2022-06-20T13:14:30.265791Z"
        },
        "trusted": true,
        "id": "Bq5Yie57fguC",
        "outputId": "1fc3ff87-92c6-4e5c-efbc-602a87cd7312",
        "colab": {
          "base_uri": "https://localhost:8080/"
        }
      },
      "execution_count": 11,
      "outputs": [
        {
          "output_type": "execute_result",
          "data": {
            "text/plain": [
              "Id                 int64\n",
              "MSSubClass         int64\n",
              "LotFrontage      float64\n",
              "LotArea            int64\n",
              "OverallQual        int64\n",
              "OverallCond        int64\n",
              "YearBuilt          int64\n",
              "YearRemodAdd       int64\n",
              "MasVnrArea       float64\n",
              "BsmtFinSF1         int64\n",
              "BsmtFinSF2         int64\n",
              "BsmtUnfSF          int64\n",
              "TotalBsmtSF        int64\n",
              "1stFlrSF           int64\n",
              "2ndFlrSF           int64\n",
              "LowQualFinSF       int64\n",
              "GrLivArea          int64\n",
              "BsmtFullBath       int64\n",
              "BsmtHalfBath       int64\n",
              "FullBath           int64\n",
              "HalfBath           int64\n",
              "BedroomAbvGr       int64\n",
              "KitchenAbvGr       int64\n",
              "TotRmsAbvGrd       int64\n",
              "Fireplaces         int64\n",
              "GarageYrBlt      float64\n",
              "GarageCars         int64\n",
              "GarageArea         int64\n",
              "WoodDeckSF         int64\n",
              "OpenPorchSF        int64\n",
              "EnclosedPorch      int64\n",
              "3SsnPorch          int64\n",
              "ScreenPorch        int64\n",
              "PoolArea           int64\n",
              "MiscVal            int64\n",
              "MoSold             int64\n",
              "YrSold             int64\n",
              "SalePrice          int64\n",
              "dtype: object"
            ]
          },
          "metadata": {},
          "execution_count": 11
        }
      ]
    },
    {
      "cell_type": "code",
      "source": [
        "corr=numeric_features.corr()\n",
        "print(corr['SalePrice'].sort_values(ascending=False)[:5],'\\n')\n",
        "print(corr['SalePrice'].sort_values(ascending=False)[-5:],'\\n')\n"
      ],
      "metadata": {
        "execution": {
          "iopub.status.busy": "2022-06-20T13:18:49.243599Z",
          "iopub.execute_input": "2022-06-20T13:18:49.243996Z",
          "iopub.status.idle": "2022-06-20T13:18:49.265730Z",
          "shell.execute_reply.started": "2022-06-20T13:18:49.243965Z",
          "shell.execute_reply": "2022-06-20T13:18:49.264305Z"
        },
        "trusted": true,
        "id": "lP9qDVsJfguD",
        "outputId": "df573cfc-dd4e-48e0-cd23-4b2f36717604",
        "colab": {
          "base_uri": "https://localhost:8080/"
        }
      },
      "execution_count": 12,
      "outputs": [
        {
          "output_type": "stream",
          "name": "stdout",
          "text": [
            "SalePrice      1.000000\n",
            "OverallQual    0.790982\n",
            "GrLivArea      0.708624\n",
            "GarageCars     0.640409\n",
            "GarageArea     0.623431\n",
            "Name: SalePrice, dtype: float64 \n",
            "\n",
            "YrSold          -0.028923\n",
            "OverallCond     -0.077856\n",
            "MSSubClass      -0.084284\n",
            "EnclosedPorch   -0.128578\n",
            "KitchenAbvGr    -0.135907\n",
            "Name: SalePrice, dtype: float64 \n",
            "\n"
          ]
        }
      ]
    },
    {
      "cell_type": "code",
      "source": [
        "quality_pivot=training_dataset.pivot_table(index='OverallQual',values='SalePrice', aggfunc=np.median)\n",
        "quality_pivot.plot(kind='bar', color='blue')\n",
        "\n",
        "plt.xlabel('Overall Quality')\n",
        "plt.xlabel('Median Sale Price')\n",
        "plt.xticks(rotation=0)\n",
        "plt.show()\n",
        "\n"
      ],
      "metadata": {
        "execution": {
          "iopub.status.busy": "2022-06-20T13:29:59.137031Z",
          "iopub.execute_input": "2022-06-20T13:29:59.137505Z",
          "iopub.status.idle": "2022-06-20T13:29:59.376068Z",
          "shell.execute_reply.started": "2022-06-20T13:29:59.137450Z",
          "shell.execute_reply": "2022-06-20T13:29:59.374816Z"
        },
        "trusted": true,
        "id": "RDJYXFkdfguD",
        "outputId": "64b0e4d4-a675-4e03-aa51-fc3f914f9c99",
        "colab": {
          "base_uri": "https://localhost:8080/",
          "height": 279
        }
      },
      "execution_count": 13,
      "outputs": [
        {
          "output_type": "display_data",
          "data": {
            "text/plain": [
              "<Figure size 432x288 with 1 Axes>"
            ],
            "image/png": "[encoded data removed]"
          },
          "metadata": {
            "needs_background": "light"
          }
        }
      ]
    },
    {
      "cell_type": "code",
      "source": [
        "plt.scatter(x=training_dataset['GrLivArea'], y=np.log(training_dataset['SalePrice']))\n",
        "plt.ylabel('Sale Price')\n",
        "plt.xlabel('Above Grade Living area square feet')\n",
        "\n",
        "plt.show()\n"
      ],
      "metadata": {
        "execution": {
          "iopub.status.busy": "2022-06-20T13:39:29.671584Z",
          "iopub.execute_input": "2022-06-20T13:39:29.672343Z",
          "iopub.status.idle": "2022-06-20T13:39:29.871351Z",
          "shell.execute_reply.started": "2022-06-20T13:39:29.672295Z",
          "shell.execute_reply": "2022-06-20T13:39:29.870363Z"
        },
        "trusted": true,
        "id": "IEmAaofjfguE",
        "outputId": "ca31fb4f-2698-418d-e833-3dbb3c0561a4",
        "colab": {
          "base_uri": "https://localhost:8080/",
          "height": 279
        }
      },
      "execution_count": 14,
      "outputs": [
        {
          "output_type": "display_data",
          "data": {
            "text/plain": [
              "<Figure size 432x288 with 1 Axes>"
            ],
            "image/png": "[encoded data removed]"
          },
          "metadata": {
            "needs_background": "light"
          }
        }
      ]
    },
    {
      "cell_type": "code",
      "source": [
        "plt.scatter(x=training_dataset['GarageArea'], y=np.log(training_dataset['SalePrice']))\n",
        "plt.ylabel('Sale Price')\n",
        "plt.xlabel('Garage Area')\n",
        "\n",
        "plt.show()\n"
      ],
      "metadata": {
        "execution": {
          "iopub.status.busy": "2022-06-20T13:40:17.146919Z",
          "iopub.execute_input": "2022-06-20T13:40:17.147354Z",
          "iopub.status.idle": "2022-06-20T13:40:17.351323Z",
          "shell.execute_reply.started": "2022-06-20T13:40:17.147320Z",
          "shell.execute_reply": "2022-06-20T13:40:17.350162Z"
        },
        "trusted": true,
        "id": "GgyfMfuSfguE",
        "outputId": "ef563bef-6587-4dc1-aaa9-45f8aeb65b58",
        "colab": {
          "base_uri": "https://localhost:8080/",
          "height": 279
        }
      },
      "execution_count": 15,
      "outputs": [
        {
          "output_type": "display_data",
          "data": {
            "text/plain": [
              "<Figure size 432x288 with 1 Axes>"
            ],
            "image/png": "[encoded data removed]"
          },
          "metadata": {
            "needs_background": "light"
          }
        }
      ]
    },
    {
      "cell_type": "code",
      "source": [
        "training_dataset=training_dataset[training_dataset['GarageArea']< 1200]\n",
        "\n",
        "plt.scatter(x=training_dataset['GarageArea'], y=np.log(training_dataset.SalePrice))\n",
        "\n",
        "plt.xlim(-200,1600)\n",
        "plt.ylabel('Sale Price')\n",
        "plt.xlabel('Garage Area')\n",
        "\n",
        "plt.show()\n",
        "\n"
      ],
      "metadata": {
        "execution": {
          "iopub.status.busy": "2022-06-20T13:46:58.479194Z",
          "iopub.execute_input": "2022-06-20T13:46:58.479684Z",
          "iopub.status.idle": "2022-06-20T13:46:58.703142Z",
          "shell.execute_reply.started": "2022-06-20T13:46:58.479648Z",
          "shell.execute_reply": "2022-06-20T13:46:58.702020Z"
        },
        "trusted": true,
        "id": "CZgM-xyqfguF",
        "outputId": "ff5472ce-e1cd-4b38-cd7b-b0d540a61842",
        "colab": {
          "base_uri": "https://localhost:8080/",
          "height": 279
        }
      },
      "execution_count": 16,
      "outputs": [
        {
          "output_type": "display_data",
          "data": {
            "text/plain": [
              "<Figure size 432x288 with 1 Axes>"
            ],
            "image/png": "[encoded data removed]"
          },
          "metadata": {
            "needs_background": "light"
          }
        }
      ]
    },
    {
      "cell_type": "code",
      "source": [
        "nulls=pd.DataFrame(training_dataset.isnull().sum().sort_values(ascending=False)[:25])\n",
        "nulls.columns=['Null Count']\n",
        "nulls.index.name='Feature'\n",
        "nulls\n"
      ],
      "metadata": {
        "execution": {
          "iopub.status.busy": "2022-06-20T13:50:35.736364Z",
          "iopub.execute_input": "2022-06-20T13:50:35.736784Z",
          "iopub.status.idle": "2022-06-20T13:50:35.758090Z",
          "shell.execute_reply.started": "2022-06-20T13:50:35.736752Z",
          "shell.execute_reply": "2022-06-20T13:50:35.756878Z"
        },
        "trusted": true,
        "id": "3p0R-3rYfguF",
        "outputId": "593c3caa-7f9f-4d3b-f98b-123a41aa24dd",
        "colab": {
          "base_uri": "https://localhost:8080/",
          "height": 865
        }
      },
      "execution_count": 17,
      "outputs": [
        {
          "output_type": "execute_result",
          "data": {
            "text/plain": [
              "              Null Count\n",
              "Feature                 \n",
              "PoolQC              1449\n",
              "MiscFeature         1402\n",
              "Alley               1364\n",
              "Fence               1174\n",
              "FireplaceQu          689\n",
              "LotFrontage          258\n",
              "GarageYrBlt           81\n",
              "GarageCond            81\n",
              "GarageType            81\n",
              "GarageFinish          81\n",
              "GarageQual            81\n",
              "BsmtFinType2          38\n",
              "BsmtExposure          38\n",
              "BsmtQual              37\n",
              "BsmtCond              37\n",
              "BsmtFinType1          37\n",
              "MasVnrArea             8\n",
              "MasVnrType             8\n",
              "Electrical             1\n",
              "Id                     0\n",
              "Functional             0\n",
              "Fireplaces             0\n",
              "KitchenQual            0\n",
              "KitchenAbvGr           0\n",
              "BedroomAbvGr           0"
            ],
            "text/html": [
              "\n",
              "  <div id=\"df-2ee5b3fd-b427-44b5-ab8e-bdb8ba98eeeb\">\n",
              "    <div class=\"colab-df-container\">\n",
              "      <div>\n",
              "<style scoped>\n",
              "    .dataframe tbody tr th:only-of-type {\n",
              "        vertical-align: middle;\n",
              "    }\n",
              "\n",
              "    .dataframe tbody tr th {\n",
              "        vertical-align: top;\n",
              "    }\n",
              "\n",
              "    .dataframe thead th {\n",
              "        text-align: right;\n",
              "    }\n",
              "</style>\n",
              "<table border=\"1\" class=\"dataframe\">\n",
              "  <thead>\n",
              "    <tr style=\"text-align: right;\">\n",
              "      <th></th>\n",
              "      <th>Null Count</th>\n",
              "    </tr>\n",
              "    <tr>\n",
              "      <th>Feature</th>\n",
              "      <th></th>\n",
              "    </tr>\n",
              "  </thead>\n",
              "  <tbody>\n",
              "    <tr>\n",
              "      <th>PoolQC</th>\n",
              "      <td>1449</td>\n",
              "    </tr>\n",
              "    <tr>\n",
              "      <th>MiscFeature</th>\n",
              "      <td>1402</td>\n",
              "    </tr>\n",
              "    <tr>\n",
              "      <th>Alley</th>\n",
              "      <td>1364</td>\n",
              "    </tr>\n",
              "    <tr>\n",
              "      <th>Fence</th>\n",
              "      <td>1174</td>\n",
              "    </tr>\n",
              "    <tr>\n",
              "      <th>FireplaceQu</th>\n",
              "      <td>689</td>\n",
              "    </tr>\n",
              "    <tr>\n",
              "      <th>LotFrontage</th>\n",
              "      <td>258</td>\n",
              "    </tr>\n",
              "    <tr>\n",
              "      <th>GarageYrBlt</th>\n",
              "      <td>81</td>\n",
              "    </tr>\n",
              "    <tr>\n",
              "      <th>GarageCond</th>\n",
              "      <td>81</td>\n",
              "    </tr>\n",
              "    <tr>\n",
              "      <th>GarageType</th>\n",
              "      <td>81</td>\n",
              "    </tr>\n",
              "    <tr>\n",
              "      <th>GarageFinish</th>\n",
              "      <td>81</td>\n",
              "    </tr>\n",
              "    <tr>\n",
              "      <th>GarageQual</th>\n",
              "      <td>81</td>\n",
              "    </tr>\n",
              "    <tr>\n",
              "      <th>BsmtFinType2</th>\n",
              "      <td>38</td>\n",
              "    </tr>\n",
              "    <tr>\n",
              "      <th>BsmtExposure</th>\n",
              "      <td>38</td>\n",
              "    </tr>\n",
              "    <tr>\n",
              "      <th>BsmtQual</th>\n",
              "      <td>37</td>\n",
              "    </tr>\n",
              "    <tr>\n",
              "      <th>BsmtCond</th>\n",
              "      <td>37</td>\n",
              "    </tr>\n",
              "    <tr>\n",
              "      <th>BsmtFinType1</th>\n",
              "      <td>37</td>\n",
              "    </tr>\n",
              "    <tr>\n",
              "      <th>MasVnrArea</th>\n",
              "      <td>8</td>\n",
              "    </tr>\n",
              "    <tr>\n",
              "      <th>MasVnrType</th>\n",
              "      <td>8</td>\n",
              "    </tr>\n",
              "    <tr>\n",
              "      <th>Electrical</th>\n",
              "      <td>1</td>\n",
              "    </tr>\n",
              "    <tr>\n",
              "      <th>Id</th>\n",
              "      <td>0</td>\n",
              "    </tr>\n",
              "    <tr>\n",
              "      <th>Functional</th>\n",
              "      <td>0</td>\n",
              "    </tr>\n",
              "    <tr>\n",
              "      <th>Fireplaces</th>\n",
              "      <td>0</td>\n",
              "    </tr>\n",
              "    <tr>\n",
              "      <th>KitchenQual</th>\n",
              "      <td>0</td>\n",
              "    </tr>\n",
              "    <tr>\n",
              "      <th>KitchenAbvGr</th>\n",
              "      <td>0</td>\n",
              "    </tr>\n",
              "    <tr>\n",
              "      <th>BedroomAbvGr</th>\n",
              "      <td>0</td>\n",
              "    </tr>\n",
              "  </tbody>\n",
              "</table>\n",
              "</div>\n",
              "      <button class=\"colab-df-convert\" onclick=\"convertToInteractive('df-2ee5b3fd-b427-44b5-ab8e-bdb8ba98eeeb')\"\n",
              "              title=\"Convert this dataframe to an interactive table.\"\n",
              "              style=\"display:none;\">\n",
              "        \n",
              "  <svg xmlns=\"http://www.w3.org/2000/svg\" height=\"24px\"viewBox=\"0 0 24 24\"\n",
              "       width=\"24px\">\n",
              "    <path d=\"M0 0h24v24H0V0z\" fill=\"none\"/>\n",
              "    <path d=\"M18.56 5.44l.94 2.06.94-2.06 2.06-.94-2.06-.94-.94-2.06-.94 2.06-2.06.94zm-11 1L8.5 8.5l.94-2.06 2.06-.94-2.06-.94L8.5 2.5l-.94 2.06-2.06.94zm10 10l.94 2.06.94-2.06 2.06-.94-2.06-.94-.94-2.06-.94 2.06-2.06.94z\"/><path d=\"M17.41 7.96l-1.37-1.37c-.4-.4-.92-.59-1.43-.59-.52 0-1.04.2-1.43.59L10.3 9.45l-7.72 7.72c-.78.78-.78 2.05 0 2.83L4 21.41c.39.39.9.59 1.41.59.51 0 1.02-.2 1.41-.59l7.78-7.78 2.81-2.81c.8-.78.8-2.07 0-2.86zM5.41 20L4 18.59l7.72-7.72 1.47 1.35L5.41 20z\"/>\n",
              "  </svg>\n",
              "      </button>\n",
              "      \n",
              "  <style>\n",
              "    .colab-df-container {\n",
              "      display:flex;\n",
              "      flex-wrap:wrap;\n",
              "      gap: 12px;\n",
              "    }\n",
              "\n",
              "    .colab-df-convert {\n",
              "      background-color: #E8F0FE;\n",
              "      border: none;\n",
              "      border-radius: 50%;\n",
              "      cursor: pointer;\n",
              "      display: none;\n",
              "      fill: #1967D2;\n",
              "      height: 32px;\n",
              "      padding: 0 0 0 0;\n",
              "      width: 32px;\n",
              "    }\n",
              "\n",
              "    .colab-df-convert:hover {\n",
              "      background-color: #E2EBFA;\n",
              "      box-shadow: 0px 1px 2px rgba(60, 64, 67, 0.3), 0px 1px 3px 1px rgba(60, 64, 67, 0.15);\n",
              "      fill: #174EA6;\n",
              "    }\n",
              "\n",
              "    [theme=dark] .colab-df-convert {\n",
              "      background-color: #3B4455;\n",
              "      fill: #D2E3FC;\n",
              "    }\n",
              "\n",
              "    [theme=dark] .colab-df-convert:hover {\n",
              "      background-color: #434B5C;\n",
              "      box-shadow: 0px 1px 3px 1px rgba(0, 0, 0, 0.15);\n",
              "      filter: drop-shadow(0px 1px 2px rgba(0, 0, 0, 0.3));\n",
              "      fill: #FFFFFF;\n",
              "    }\n",
              "  </style>\n",
              "\n",
              "      <script>\n",
              "        const buttonEl =\n",
              "          document.querySelector('#df-2ee5b3fd-b427-44b5-ab8e-bdb8ba98eeeb button.colab-df-convert');\n",
              "        buttonEl.style.display =\n",
              "          google.colab.kernel.accessAllowed ? 'block' : 'none';\n",
              "\n",
              "        async function convertToInteractive(key) {\n",
              "          const element = document.querySelector('#df-2ee5b3fd-b427-44b5-ab8e-bdb8ba98eeeb');\n",
              "          const dataTable =\n",
              "            await google.colab.kernel.invokeFunction('convertToInteractive',\n",
              "                                                     [key], {});\n",
              "          if (!dataTable) return;\n",
              "\n",
              "          const docLinkHtml = 'Like what you see? Visit the ' +\n",
              "            '<a target=\"_blank\" href=https://colab.research.google.com/notebooks/data_table.ipynb>data table notebook</a>'\n",
              "            + ' to learn more about interactive tables.';\n",
              "          element.innerHTML = '';\n",
              "          dataTable['output_type'] = 'display_data';\n",
              "          await google.colab.output.renderOutput(dataTable, element);\n",
              "          const docLink = document.createElement('div');\n",
              "          docLink.innerHTML = docLinkHtml;\n",
              "          element.appendChild(docLink);\n",
              "        }\n",
              "      </script>\n",
              "    </div>\n",
              "  </div>\n",
              "  "
            ]
          },
          "metadata": {},
          "execution_count": 17
        }
      ]
    },
    {
      "cell_type": "code",
      "source": [
        "categoricals=training_dataset.select_dtypes(exclude=[np.number])\n",
        "\n",
        "categoricals.describe()"
      ],
      "metadata": {
        "execution": {
          "iopub.status.busy": "2022-06-20T13:52:51.821521Z",
          "iopub.execute_input": "2022-06-20T13:52:51.821934Z",
          "iopub.status.idle": "2022-06-20T13:52:51.916072Z",
          "shell.execute_reply.started": "2022-06-20T13:52:51.821903Z",
          "shell.execute_reply": "2022-06-20T13:52:51.915361Z"
        },
        "trusted": true,
        "id": "nW-u2UDPfguG",
        "outputId": "e5c434d7-3e33-4149-afc4-3cd2b2ad729d",
        "colab": {
          "base_uri": "https://localhost:8080/",
          "height": 268
        }
      },
      "execution_count": 18,
      "outputs": [
        {
          "output_type": "execute_result",
          "data": {
            "text/plain": [
              "       MSZoning Street Alley LotShape LandContour Utilities LotConfig  \\\n",
              "count      1455   1455    91     1455        1455      1455      1455   \n",
              "unique        5      2     2        4           4         2         5   \n",
              "top          RL   Pave  Grvl      Reg         Lvl    AllPub    Inside   \n",
              "freq       1147   1450    50      921        1309      1454      1048   \n",
              "\n",
              "       LandSlope Neighborhood Condition1  ... GarageType GarageFinish  \\\n",
              "count       1455         1455       1455  ...       1374         1374   \n",
              "unique         3           25          9  ...          6            3   \n",
              "top          Gtl        NAmes       Norm  ...     Attchd          Unf   \n",
              "freq        1378          225       1257  ...        867          605   \n",
              "\n",
              "       GarageQual GarageCond PavedDrive PoolQC  Fence MiscFeature SaleType  \\\n",
              "count        1374       1374       1455      6    281          53     1455   \n",
              "unique          5          5          3      3      4           4        9   \n",
              "top            TA         TA          Y     Ex  MnPrv        Shed       WD   \n",
              "freq         1306       1321       1335      2    157          48     1266   \n",
              "\n",
              "       SaleCondition  \n",
              "count           1455  \n",
              "unique             6  \n",
              "top           Normal  \n",
              "freq            1196  \n",
              "\n",
              "[4 rows x 43 columns]"
            ],
            "text/html": [
              "\n",
              "  <div id=\"df-5115c197-d632-4fe3-9d68-cd807d69c66b\">\n",
              "    <div class=\"colab-df-container\">\n",
              "      <div>\n",
              "<style scoped>\n",
              "    .dataframe tbody tr th:only-of-type {\n",
              "        vertical-align: middle;\n",
              "    }\n",
              "\n",
              "    .dataframe tbody tr th {\n",
              "        vertical-align: top;\n",
              "    }\n",
              "\n",
              "    .dataframe thead th {\n",
              "        text-align: right;\n",
              "    }\n",
              "</style>\n",
              "<table border=\"1\" class=\"dataframe\">\n",
              "  <thead>\n",
              "    <tr style=\"text-align: right;\">\n",
              "      <th></th>\n",
              "      <th>MSZoning</th>\n",
              "      <th>Street</th>\n",
              "      <th>Alley</th>\n",
              "      <th>LotShape</th>\n",
              "      <th>LandContour</th>\n",
              "      <th>Utilities</th>\n",
              "      <th>LotConfig</th>\n",
              "      <th>LandSlope</th>\n",
              "      <th>Neighborhood</th>\n",
              "      <th>Condition1</th>\n",
              "      <th>...</th>\n",
              "      <th>GarageType</th>\n",
              "      <th>GarageFinish</th>\n",
              "      <th>GarageQual</th>\n",
              "      <th>GarageCond</th>\n",
              "      <th>PavedDrive</th>\n",
              "      <th>PoolQC</th>\n",
              "      <th>Fence</th>\n",
              "      <th>MiscFeature</th>\n",
              "      <th>SaleType</th>\n",
              "      <th>SaleCondition</th>\n",
              "    </tr>\n",
              "  </thead>\n",
              "  <tbody>\n",
              "    <tr>\n",
              "      <th>count</th>\n",
              "      <td>1455</td>\n",
              "      <td>1455</td>\n",
              "      <td>91</td>\n",
              "      <td>1455</td>\n",
              "      <td>1455</td>\n",
              "      <td>1455</td>\n",
              "      <td>1455</td>\n",
              "      <td>1455</td>\n",
              "      <td>1455</td>\n",
              "      <td>1455</td>\n",
              "      <td>...</td>\n",
              "      <td>1374</td>\n",
              "      <td>1374</td>\n",
              "      <td>1374</td>\n",
              "      <td>1374</td>\n",
              "      <td>1455</td>\n",
              "      <td>6</td>\n",
              "      <td>281</td>\n",
              "      <td>53</td>\n",
              "      <td>1455</td>\n",
              "      <td>1455</td>\n",
              "    </tr>\n",
              "    <tr>\n",
              "      <th>unique</th>\n",
              "      <td>5</td>\n",
              "      <td>2</td>\n",
              "      <td>2</td>\n",
              "      <td>4</td>\n",
              "      <td>4</td>\n",
              "      <td>2</td>\n",
              "      <td>5</td>\n",
              "      <td>3</td>\n",
              "      <td>25</td>\n",
              "      <td>9</td>\n",
              "      <td>...</td>\n",
              "      <td>6</td>\n",
              "      <td>3</td>\n",
              "      <td>5</td>\n",
              "      <td>5</td>\n",
              "      <td>3</td>\n",
              "      <td>3</td>\n",
              "      <td>4</td>\n",
              "      <td>4</td>\n",
              "      <td>9</td>\n",
              "      <td>6</td>\n",
              "    </tr>\n",
              "    <tr>\n",
              "      <th>top</th>\n",
              "      <td>RL</td>\n",
              "      <td>Pave</td>\n",
              "      <td>Grvl</td>\n",
              "      <td>Reg</td>\n",
              "      <td>Lvl</td>\n",
              "      <td>AllPub</td>\n",
              "      <td>Inside</td>\n",
              "      <td>Gtl</td>\n",
              "      <td>NAmes</td>\n",
              "      <td>Norm</td>\n",
              "      <td>...</td>\n",
              "      <td>Attchd</td>\n",
              "      <td>Unf</td>\n",
              "      <td>TA</td>\n",
              "      <td>TA</td>\n",
              "      <td>Y</td>\n",
              "      <td>Ex</td>\n",
              "      <td>MnPrv</td>\n",
              "      <td>Shed</td>\n",
              "      <td>WD</td>\n",
              "      <td>Normal</td>\n",
              "    </tr>\n",
              "    <tr>\n",
              "      <th>freq</th>\n",
              "      <td>1147</td>\n",
              "      <td>1450</td>\n",
              "      <td>50</td>\n",
              "      <td>921</td>\n",
              "      <td>1309</td>\n",
              "      <td>1454</td>\n",
              "      <td>1048</td>\n",
              "      <td>1378</td>\n",
              "      <td>225</td>\n",
              "      <td>1257</td>\n",
              "      <td>...</td>\n",
              "      <td>867</td>\n",
              "      <td>605</td>\n",
              "      <td>1306</td>\n",
              "      <td>1321</td>\n",
              "      <td>1335</td>\n",
              "      <td>2</td>\n",
              "      <td>157</td>\n",
              "      <td>48</td>\n",
              "      <td>1266</td>\n",
              "      <td>1196</td>\n",
              "    </tr>\n",
              "  </tbody>\n",
              "</table>\n",
              "<p>4 rows × 43 columns</p>\n",
              "</div>\n",
              "      <button class=\"colab-df-convert\" onclick=\"convertToInteractive('df-5115c197-d632-4fe3-9d68-cd807d69c66b')\"\n",
              "              title=\"Convert this dataframe to an interactive table.\"\n",
              "              style=\"display:none;\">\n",
              "        \n",
              "  <svg xmlns=\"http://www.w3.org/2000/svg\" height=\"24px\"viewBox=\"0 0 24 24\"\n",
              "       width=\"24px\">\n",
              "    <path d=\"M0 0h24v24H0V0z\" fill=\"none\"/>\n",
              "    <path d=\"M18.56 5.44l.94 2.06.94-2.06 2.06-.94-2.06-.94-.94-2.06-.94 2.06-2.06.94zm-11 1L8.5 8.5l.94-2.06 2.06-.94-2.06-.94L8.5 2.5l-.94 2.06-2.06.94zm10 10l.94 2.06.94-2.06 2.06-.94-2.06-.94-.94-2.06-.94 2.06-2.06.94z\"/><path d=\"M17.41 7.96l-1.37-1.37c-.4-.4-.92-.59-1.43-.59-.52 0-1.04.2-1.43.59L10.3 9.45l-7.72 7.72c-.78.78-.78 2.05 0 2.83L4 21.41c.39.39.9.59 1.41.59.51 0 1.02-.2 1.41-.59l7.78-7.78 2.81-2.81c.8-.78.8-2.07 0-2.86zM5.41 20L4 18.59l7.72-7.72 1.47 1.35L5.41 20z\"/>\n",
              "  </svg>\n",
              "      </button>\n",
              "      \n",
              "  <style>\n",
              "    .colab-df-container {\n",
              "      display:flex;\n",
              "      flex-wrap:wrap;\n",
              "      gap: 12px;\n",
              "    }\n",
              "\n",
              "    .colab-df-convert {\n",
              "      background-color: #E8F0FE;\n",
              "      border: none;\n",
              "      border-radius: 50%;\n",
              "      cursor: pointer;\n",
              "      display: none;\n",
              "      fill: #1967D2;\n",
              "      height: 32px;\n",
              "      padding: 0 0 0 0;\n",
              "      width: 32px;\n",
              "    }\n",
              "\n",
              "    .colab-df-convert:hover {\n",
              "      background-color: #E2EBFA;\n",
              "      box-shadow: 0px 1px 2px rgba(60, 64, 67, 0.3), 0px 1px 3px 1px rgba(60, 64, 67, 0.15);\n",
              "      fill: #174EA6;\n",
              "    }\n",
              "\n",
              "    [theme=dark] .colab-df-convert {\n",
              "      background-color: #3B4455;\n",
              "      fill: #D2E3FC;\n",
              "    }\n",
              "\n",
              "    [theme=dark] .colab-df-convert:hover {\n",
              "      background-color: #434B5C;\n",
              "      box-shadow: 0px 1px 3px 1px rgba(0, 0, 0, 0.15);\n",
              "      filter: drop-shadow(0px 1px 2px rgba(0, 0, 0, 0.3));\n",
              "      fill: #FFFFFF;\n",
              "    }\n",
              "  </style>\n",
              "\n",
              "      <script>\n",
              "        const buttonEl =\n",
              "          document.querySelector('#df-5115c197-d632-4fe3-9d68-cd807d69c66b button.colab-df-convert');\n",
              "        buttonEl.style.display =\n",
              "          google.colab.kernel.accessAllowed ? 'block' : 'none';\n",
              "\n",
              "        async function convertToInteractive(key) {\n",
              "          const element = document.querySelector('#df-5115c197-d632-4fe3-9d68-cd807d69c66b');\n",
              "          const dataTable =\n",
              "            await google.colab.kernel.invokeFunction('convertToInteractive',\n",
              "                                                     [key], {});\n",
              "          if (!dataTable) return;\n",
              "\n",
              "          const docLinkHtml = 'Like what you see? Visit the ' +\n",
              "            '<a target=\"_blank\" href=https://colab.research.google.com/notebooks/data_table.ipynb>data table notebook</a>'\n",
              "            + ' to learn more about interactive tables.';\n",
              "          element.innerHTML = '';\n",
              "          dataTable['output_type'] = 'display_data';\n",
              "          await google.colab.output.renderOutput(dataTable, element);\n",
              "          const docLink = document.createElement('div');\n",
              "          docLink.innerHTML = docLinkHtml;\n",
              "          element.appendChild(docLink);\n",
              "        }\n",
              "      </script>\n",
              "    </div>\n",
              "  </div>\n",
              "  "
            ]
          },
          "metadata": {},
          "execution_count": 18
        }
      ]
    },
    {
      "cell_type": "code",
      "source": [
        "training_dataset['enc_street']=pd.get_dummies(training_dataset.Street,drop_first=True)\n",
        "testing_dataset['enc_street']=pd.get_dummies(testing_dataset.Street,drop_first=True)\n",
        "print('Encoded:\\n')\n",
        "print(training_dataset.enc_street.value_counts())\n",
        "\n",
        "\n",
        "\n"
      ],
      "metadata": {
        "id": "olJBgMyJiwfF",
        "outputId": "fc6b9510-d8ff-46e3-cfdd-9db28a56b7c5",
        "colab": {
          "base_uri": "https://localhost:8080/"
        }
      },
      "execution_count": 36,
      "outputs": [
        {
          "output_type": "stream",
          "name": "stdout",
          "text": [
            "Encoded:\n",
            "\n",
            "1    1450\n",
            "0       5\n",
            "Name: enc_street, dtype: int64\n"
          ]
        }
      ]
    },
    {
      "cell_type": "code",
      "source": [
        "data= training_dataset.select_dtypes(include=[np.number]).interpolate().dropna()\n",
        "\n",
        "sum(data.isnull().sum()!=0)\n"
      ],
      "metadata": {
        "execution": {
          "iopub.status.busy": "2022-06-20T14:01:59.673410Z",
          "iopub.execute_input": "2022-06-20T14:01:59.673822Z",
          "iopub.status.idle": "2022-06-20T14:01:59.689596Z",
          "shell.execute_reply.started": "2022-06-20T14:01:59.673792Z",
          "shell.execute_reply": "2022-06-20T14:01:59.688680Z"
        },
        "trusted": true,
        "id": "dclO1oXkfguG",
        "outputId": "bf54512e-4610-462b-da75-cf57f6db619c",
        "colab": {
          "base_uri": "https://localhost:8080/"
        }
      },
      "execution_count": 20,
      "outputs": [
        {
          "output_type": "execute_result",
          "data": {
            "text/plain": [
              "0"
            ]
          },
          "metadata": {},
          "execution_count": 20
        }
      ]
    },
    {
      "cell_type": "code",
      "source": [
        "y=np.log(training_dataset.SalePrice)\n",
        "X=data.drop(['SalePrice', 'Id'],axis=1)\n",
        "\n"
      ],
      "metadata": {
        "execution": {
          "iopub.status.busy": "2022-06-20T14:05:37.923432Z",
          "iopub.execute_input": "2022-06-20T14:05:37.924095Z",
          "iopub.status.idle": "2022-06-20T14:05:37.931797Z",
          "shell.execute_reply.started": "2022-06-20T14:05:37.924051Z",
          "shell.execute_reply": "2022-06-20T14:05:37.931046Z"
        },
        "trusted": true,
        "id": "Y8ijYsqYfguH"
      },
      "execution_count": 29,
      "outputs": []
    },
    {
      "cell_type": "code",
      "source": [
        "from sklearn.model_selection import train_test_split\n",
        "X_train, X_test, y_train, y_test = train_test_split(X, y, train_size=0.8, random_state=44, shuffle =True)"
      ],
      "metadata": {
        "execution": {
          "iopub.status.busy": "2022-06-20T14:07:45.107108Z",
          "iopub.execute_input": "2022-06-20T14:07:45.107585Z",
          "iopub.status.idle": "2022-06-20T14:07:45.115794Z",
          "shell.execute_reply.started": "2022-06-20T14:07:45.107548Z",
          "shell.execute_reply": "2022-06-20T14:07:45.114809Z"
        },
        "trusted": true,
        "id": "CpLCgX6ifguH"
      },
      "execution_count": 42,
      "outputs": []
    },
    {
      "cell_type": "code",
      "source": [
        "from sklearn.linear_model import LinearRegression\n",
        "\n",
        "LinearRegressionModel = LinearRegression()\n",
        "LinearRegressionModel.fit(X_train, y_train)\n",
        "print('Linear Regression Train Score is : ' , LinearRegressionModel.score(X_train, y_train))\n",
        "print('Linear Regression Test Score is : ' , LinearRegressionModel.score(X_test, y_test))\n",
        "print('Linear Regression Coef is : ' , LinearRegressionModel.coef_)\n",
        "print('Linear Regression intercept is : ' , LinearRegressionModel.intercept_)"
      ],
      "metadata": {
        "execution": {
          "iopub.status.busy": "2022-06-20T14:09:20.589310Z",
          "iopub.execute_input": "2022-06-20T14:09:20.589700Z",
          "iopub.status.idle": "2022-06-20T14:09:20.621437Z",
          "shell.execute_reply.started": "2022-06-20T14:09:20.589670Z",
          "shell.execute_reply": "2022-06-20T14:09:20.620304Z"
        },
        "trusted": true,
        "id": "xvNQ6OxAfguI",
        "outputId": "39bfea00-a4d3-4f44-d166-23ee2af659b4",
        "colab": {
          "base_uri": "https://localhost:8080/"
        }
      },
      "execution_count": 43,
      "outputs": [
        {
          "output_type": "stream",
          "name": "stdout",
          "text": [
            "Linear Regression Train Score is :  0.8870864715940204\n",
            "Linear Regression Test Score is :  0.9027047679641715\n",
            "Linear Regression Coef is :  [-3.22831479e-04  3.79864935e-04  2.04538718e-06  7.45345603e-02\n",
            "  5.18408632e-02  2.98354666e-03  1.16917833e-03 -1.37874935e-05\n",
            "  6.75467575e-05  3.00387934e-05  1.53423455e-06  9.91197855e-05\n",
            "  1.03027418e-04  7.93720665e-05 -5.09431586e-05  1.31456326e-04\n",
            "  3.86304460e-02  1.60033234e-03  1.85036088e-02  2.31783076e-02\n",
            " -2.23807662e-03 -8.25104032e-02  1.45980284e-02  4.10529201e-02\n",
            "  1.09047855e-04  3.52827910e-02  1.11094548e-04  6.54514800e-05\n",
            " -6.51006216e-05  1.20758090e-04  2.19313701e-04  2.04517501e-04\n",
            " -1.11975737e-05 -5.65259827e-06 -7.83224010e-04 -5.34736545e-03]\n",
            "Linear Regression intercept is :  12.886753154305474\n"
          ]
        }
      ]
    },
    {
      "cell_type": "code",
      "source": [
        "y_pred_linear = LinearRegressionModel.predict(X_test)\n",
        "print('Y predict: ',y_pred_linear[:5])\n",
        "print('Y test: ', y_test[:5])"
      ],
      "metadata": {
        "execution": {
          "iopub.status.busy": "2022-06-20T14:10:37.371762Z",
          "iopub.execute_input": "2022-06-20T14:10:37.372125Z",
          "iopub.status.idle": "2022-06-20T14:10:37.386282Z",
          "shell.execute_reply.started": "2022-06-20T14:10:37.372097Z",
          "shell.execute_reply": "2022-06-20T14:10:37.384921Z"
        },
        "trusted": true,
        "id": "FLm1_rPLfguI",
        "outputId": "18858803-e03f-4f32-95fe-59c08b501e44",
        "colab": {
          "base_uri": "https://localhost:8080/"
        }
      },
      "execution_count": 44,
      "outputs": [
        {
          "output_type": "stream",
          "name": "stdout",
          "text": [
            "Y predict:  [12.50810562 11.79586682 12.16364886 11.97011961 12.04754551]\n",
            "Y test:  621     12.388394\n",
            "1453    11.344507\n",
            "315     12.146853\n",
            "563     12.128111\n",
            "404     12.031719\n",
            "Name: SalePrice, dtype: float64\n"
          ]
        }
      ]
    },
    {
      "cell_type": "code",
      "source": [
        "from sklearn.metrics import mean_squared_error\n",
        "print('root square error is',LinearRegressionModel.score(X_test, y_test))\n",
        "predictions=LinearRegressionModel.predict(X_test)\n",
        "\n",
        "print('RMSE', mean_squared_error(y_test, predictions))\n",
        "\n",
        "\n"
      ],
      "metadata": {
        "execution": {
          "iopub.status.busy": "2022-06-20T14:21:50.926737Z",
          "iopub.execute_input": "2022-06-20T14:21:50.927177Z",
          "iopub.status.idle": "2022-06-20T14:21:50.953209Z",
          "shell.execute_reply.started": "2022-06-20T14:21:50.927145Z",
          "shell.execute_reply": "2022-06-20T14:21:50.951846Z"
        },
        "trusted": true,
        "id": "xhlh9pqNfguJ",
        "outputId": "ecc280ec-2b7f-4ea4-bbb2-e2f95affbd6f",
        "colab": {
          "base_uri": "https://localhost:8080/"
        }
      },
      "execution_count": 47,
      "outputs": [
        {
          "output_type": "stream",
          "name": "stdout",
          "text": [
            "root square error is 0.9027047679641715\n",
            "RMSE 0.014536016923180092\n"
          ]
        }
      ]
    },
    {
      "cell_type": "code",
      "source": [
        "actual_values=y_test\n",
        "plt.scatter(predictions, actual_values,alpha=.7, color='b')\n",
        "plt.xlabel('Predicted Price')\n",
        "plt.ylabel('Actual Price')\n",
        "plt.title('Linear Regression Model')\n",
        "\n",
        "plt.show()\n",
        "\n",
        "\n",
        "\n"
      ],
      "metadata": {
        "execution": {
          "iopub.status.busy": "2022-06-20T14:26:26.828969Z",
          "iopub.execute_input": "2022-06-20T14:26:26.829849Z",
          "iopub.status.idle": "2022-06-20T14:26:27.034708Z",
          "shell.execute_reply.started": "2022-06-20T14:26:26.829812Z",
          "shell.execute_reply": "2022-06-20T14:26:27.033440Z"
        },
        "trusted": true,
        "id": "J20ZLlsYfguJ",
        "outputId": "2d1b54f4-142e-4ed9-dfdf-7c0f2e5e58ae",
        "colab": {
          "base_uri": "https://localhost:8080/",
          "height": 295
        }
      },
      "execution_count": 48,
      "outputs": [
        {
          "output_type": "display_data",
          "data": {
            "text/plain": [
              "<Figure size 432x288 with 1 Axes>"
            ],
            "image/png": "[encoded data removed]"
          },
          "metadata": {
            "needs_background": "light"
          }
        }
      ]
    }
  ]
}